{
  "nbformat": 4,
  "nbformat_minor": 0,
  "metadata": {
    "colab": {
      "provenance": [],
      "collapsed_sections": []
    },
    "kernelspec": {
      "name": "python3",
      "display_name": "Python 3"
    }
  },
  "cells": [
    {
      "cell_type": "code",
      "source": [
        "# Environment preparation\n",
        "import sys\n",
        "!pip install expectexception"
      ],
      "metadata": {
        "colab": {
          "base_uri": "https://localhost:8080/"
        },
        "id": "chQ-y1SPbbh1",
        "outputId": "8d7224fb-0e35-4b13-cf02-7449816d66bf"
      },
      "execution_count": 1,
      "outputs": [
        {
          "output_type": "stream",
          "name": "stdout",
          "text": [
            "Looking in indexes: https://pypi.org/simple, https://us-python.pkg.dev/colab-wheels/public/simple/\n",
            "Requirement already satisfied: expectexception in /usr/local/lib/python3.7/dist-packages (0.1.1)\n"
          ]
        }
      ]
    },
    {
      "cell_type": "code",
      "source": [
        "# Preparing environment\n",
        "import expectexception\n",
        "\n",
        "# %%expect_exception TypeError"
      ],
      "metadata": {
        "id": "rY-2G553bcS7"
      },
      "execution_count": 2,
      "outputs": []
    },
    {
      "cell_type": "markdown",
      "metadata": {
        "id": "f7yOpaRM5IbG"
      },
      "source": [
        "# 1. NUMPY BASICS"
      ]
    },
    {
      "cell_type": "code",
      "metadata": {
        "id": "Bqk10u47qEmJ",
        "colab": {
          "base_uri": "https://localhost:8080/"
        },
        "outputId": "dcc5571f-9ee2-4cca-f64e-665b48b5b0f4"
      },
      "source": [
        "# NumPy is a Linear Algebra Library used for multidimensional arrays\n",
        "# NumPy brings the best of two worlds: (1) C/Fortran computational efficiency, (2) Python language easy syntax \n",
        "import numpy as np\n",
        "\n",
        "# Let's define a one-dimensional array \n",
        "my_list = [10, 20, 50, 60, 70]\n",
        "my_list, type(my_list)"
      ],
      "execution_count": 3,
      "outputs": [
        {
          "output_type": "execute_result",
          "data": {
            "text/plain": [
              "([10, 20, 50, 60, 70], list)"
            ]
          },
          "metadata": {},
          "execution_count": 3
        }
      ]
    },
    {
      "cell_type": "code",
      "metadata": {
        "id": "b98d-lkK5NbQ",
        "colab": {
          "base_uri": "https://localhost:8080/"
        },
        "outputId": "6c7e17ff-6b14-4b38-a6a1-c0c91292b1a7"
      },
      "source": [
        "# Let's create a numpy array from the list \"my_list\"\n",
        "x = np.array(my_list)\n",
        "x, type(x)"
      ],
      "execution_count": 4,
      "outputs": [
        {
          "output_type": "execute_result",
          "data": {
            "text/plain": [
              "(array([10, 20, 50, 60, 70]), numpy.ndarray)"
            ]
          },
          "metadata": {},
          "execution_count": 4
        }
      ]
    },
    {
      "cell_type": "code",
      "metadata": {
        "id": "wpiZ25fZ5NiN",
        "colab": {
          "base_uri": "https://localhost:8080/"
        },
        "outputId": "5d31faa8-579d-4b92-e5b4-6ee4c1b4ed75"
      },
      "source": [
        "# Multi-dimensional (Matrix definition) \n",
        "matrix = np.array([[5, 8], [9, 13]])\n",
        "matrix"
      ],
      "execution_count": 5,
      "outputs": [
        {
          "output_type": "execute_result",
          "data": {
            "text/plain": [
              "array([[ 5,  8],\n",
              "       [ 9, 13]])"
            ]
          },
          "metadata": {},
          "execution_count": 5
        }
      ]
    },
    {
      "cell_type": "markdown",
      "metadata": {
        "id": "tmB_S-JfHZRL"
      },
      "source": [
        "**MINI CHALLENGE #1:** \n",
        "- **Write a code that creates the following 2x4 numpy array**\n",
        "\n",
        "```\n",
        "[[4 6 8 7] \n",
        "[20 5 6 9]]\n",
        "```"
      ]
    },
    {
      "cell_type": "code",
      "metadata": {
        "id": "Nabjzl1oKtGX",
        "colab": {
          "base_uri": "https://localhost:8080/"
        },
        "outputId": "e9631ecc-4f2a-4e2c-d741-5e9c260b666d"
      },
      "source": [
        "my_array = np.array([[4, 6, 8, 7],\n",
        "                     [20, 5, 6, 9]])\n",
        "my_array"
      ],
      "execution_count": 6,
      "outputs": [
        {
          "output_type": "execute_result",
          "data": {
            "text/plain": [
              "array([[ 4,  6,  8,  7],\n",
              "       [20,  5,  6,  9]])"
            ]
          },
          "metadata": {},
          "execution_count": 6
        }
      ]
    },
    {
      "cell_type": "markdown",
      "metadata": {
        "id": "uBuqdDQM6Qd9"
      },
      "source": [
        "# 2. BUILT-IN METHODS AND FUNCTIONS "
      ]
    },
    {
      "cell_type": "code",
      "metadata": {
        "id": "yXQV-Nrg5No3",
        "colab": {
          "base_uri": "https://localhost:8080/"
        },
        "outputId": "54650647-685a-4fa3-e7e3-5ef570c4668f"
      },
      "source": [
        "# \"rand()\" uniform distribution between 0 and 1\n",
        "print(np.random.rand())\n",
        "print(np.random.rand(10))"
      ],
      "execution_count": 7,
      "outputs": [
        {
          "output_type": "stream",
          "name": "stdout",
          "text": [
            "0.03602692640002836\n",
            "[0.15968156 0.39322461 0.11087337 0.85242376 0.4589982  0.42762698\n",
            " 0.70018774 0.82230443 0.92608993 0.24130359]\n"
          ]
        }
      ]
    },
    {
      "cell_type": "code",
      "metadata": {
        "id": "PpJUCdB15NkT",
        "colab": {
          "base_uri": "https://localhost:8080/"
        },
        "outputId": "f37cd35a-2ef2-44f8-c462-bbd38a17230c"
      },
      "source": [
        "# you can create a matrix of random number as well\n",
        "np.random.rand(2,2)"
      ],
      "execution_count": 8,
      "outputs": [
        {
          "output_type": "execute_result",
          "data": {
            "text/plain": [
              "array([[0.5198077 , 0.90486891],\n",
              "       [0.72486159, 0.00863099]])"
            ]
          },
          "metadata": {},
          "execution_count": 8
        }
      ]
    },
    {
      "cell_type": "code",
      "metadata": {
        "id": "7EzMNrrm6YHA",
        "colab": {
          "base_uri": "https://localhost:8080/"
        },
        "outputId": "5e8938ee-e619-4ed9-e8e1-467ffd07644a"
      },
      "source": [
        "# \"randn()\" normal distribution between -1 and 1\n",
        "np.random.randn(15)"
      ],
      "execution_count": 9,
      "outputs": [
        {
          "output_type": "execute_result",
          "data": {
            "text/plain": [
              "array([ 0.4685472 , -1.84430294,  0.49440935, -0.76527393,  0.06867863,\n",
              "       -0.22920168, -0.46728197,  0.61890347, -0.75663359, -0.16378434,\n",
              "        1.29809037,  0.94960244, -0.25738813,  1.32726221, -1.18380492])"
            ]
          },
          "metadata": {},
          "execution_count": 9
        }
      ]
    },
    {
      "cell_type": "code",
      "metadata": {
        "id": "RBcU5xgb6YL0",
        "colab": {
          "base_uri": "https://localhost:8080/"
        },
        "outputId": "cddb4915-d814-41d7-fff7-fd263e639150"
      },
      "source": [
        "# \"randint\" is used to generate random integers between upper and lower bounds\n",
        "print(np.random.randint(10, 50))\n",
        "\n",
        "# \"randint\" can be used to generate a certain number of random itegers as follows\n",
        "np.random.randint(10, 50, 6)"
      ],
      "execution_count": 10,
      "outputs": [
        {
          "output_type": "stream",
          "name": "stdout",
          "text": [
            "43\n"
          ]
        },
        {
          "output_type": "execute_result",
          "data": {
            "text/plain": [
              "array([15, 38, 18, 46, 11, 38])"
            ]
          },
          "metadata": {},
          "execution_count": 10
        }
      ]
    },
    {
      "cell_type": "code",
      "metadata": {
        "id": "EOOLMB416YUh",
        "colab": {
          "base_uri": "https://localhost:8080/"
        },
        "outputId": "f15e02bc-8224-4f04-b989-6ba5f80cae23"
      },
      "source": [
        "# np.arange creates an evenly spaced values within a given interval\n",
        "print(np.arange(start=-10, stop=10, step=5))\n",
        "print(np.arange(-10, 10, 5))\n",
        "print(np.arange(0, 51, 10))\n",
        "print(np.arange(10))"
      ],
      "execution_count": 11,
      "outputs": [
        {
          "output_type": "stream",
          "name": "stdout",
          "text": [
            "[-10  -5   0   5]\n",
            "[-10  -5   0   5]\n",
            "[ 0 10 20 30 40 50]\n",
            "[0 1 2 3 4 5 6 7 8 9]\n"
          ]
        }
      ]
    },
    {
      "cell_type": "code",
      "metadata": {
        "id": "Jz7eJuio6YY4",
        "colab": {
          "base_uri": "https://localhost:8080/"
        },
        "outputId": "49156d1a-1195-4307-db8a-0de30232993d"
      },
      "source": [
        "# Create an evenly spaced values over a specified interval.\n",
        "np.linspace(-10, 10, 6)"
      ],
      "execution_count": 12,
      "outputs": [
        {
          "output_type": "execute_result",
          "data": {
            "text/plain": [
              "array([-10.,  -6.,  -2.,   2.,   6.,  10.])"
            ]
          },
          "metadata": {},
          "execution_count": 12
        }
      ]
    },
    {
      "cell_type": "code",
      "metadata": {
        "id": "sft1flaM6YXF",
        "colab": {
          "base_uri": "https://localhost:8080/"
        },
        "outputId": "3b73f122-7eff-4c8d-f386-195b46865493"
      },
      "source": [
        "# create a diagonal of ones and zeros everywhere else\n",
        "print(np.eye(5), '\\n')\n",
        "print(np.eye(5, k=2))"
      ],
      "execution_count": 13,
      "outputs": [
        {
          "output_type": "stream",
          "name": "stdout",
          "text": [
            "[[1. 0. 0. 0. 0.]\n",
            " [0. 1. 0. 0. 0.]\n",
            " [0. 0. 1. 0. 0.]\n",
            " [0. 0. 0. 1. 0.]\n",
            " [0. 0. 0. 0. 1.]] \n",
            "\n",
            "[[0. 0. 1. 0. 0.]\n",
            " [0. 0. 0. 1. 0.]\n",
            " [0. 0. 0. 0. 1.]\n",
            " [0. 0. 0. 0. 0.]\n",
            " [0. 0. 0. 0. 0.]]\n"
          ]
        }
      ]
    },
    {
      "cell_type": "code",
      "metadata": {
        "id": "zZgMftc96fZm",
        "colab": {
          "base_uri": "https://localhost:8080/"
        },
        "outputId": "eae4c9a3-ecc9-44f0-d264-a37acb6bf1a3"
      },
      "source": [
        "# Array of ones\n",
        "np.ones(10)"
      ],
      "execution_count": 14,
      "outputs": [
        {
          "output_type": "execute_result",
          "data": {
            "text/plain": [
              "array([1., 1., 1., 1., 1., 1., 1., 1., 1., 1.])"
            ]
          },
          "metadata": {},
          "execution_count": 14
        }
      ]
    },
    {
      "cell_type": "code",
      "metadata": {
        "id": "VQ8fp8Qb6feB",
        "colab": {
          "base_uri": "https://localhost:8080/"
        },
        "outputId": "a9934f2b-911f-487a-89b1-7e3885b61ae9"
      },
      "source": [
        "# Matrices of ones\n",
        "np.ones((2, 4))"
      ],
      "execution_count": 15,
      "outputs": [
        {
          "output_type": "execute_result",
          "data": {
            "text/plain": [
              "array([[1., 1., 1., 1.],\n",
              "       [1., 1., 1., 1.]])"
            ]
          },
          "metadata": {},
          "execution_count": 15
        }
      ]
    },
    {
      "cell_type": "code",
      "metadata": {
        "id": "TTROXKYo6YSn",
        "colab": {
          "base_uri": "https://localhost:8080/"
        },
        "outputId": "37433f4a-d3a8-4f67-9648-16ead96a89b7"
      },
      "source": [
        "# Array of zeros\n",
        "print(np.zeros(10))\n",
        "print(np.zeros((2, 4)))"
      ],
      "execution_count": 16,
      "outputs": [
        {
          "output_type": "stream",
          "name": "stdout",
          "text": [
            "[0. 0. 0. 0. 0. 0. 0. 0. 0. 0.]\n",
            "[[0. 0. 0. 0.]\n",
            " [0. 0. 0. 0.]]\n"
          ]
        }
      ]
    },
    {
      "cell_type": "markdown",
      "metadata": {
        "id": "IGiQ87EjKzh-"
      },
      "source": [
        "**MINI CHALLENGE #2:**\n",
        "- **Write a code that takes in a number x from the user and creates a 1x20 array with random numbers ranging from 0 to x**"
      ]
    },
    {
      "cell_type": "code",
      "metadata": {
        "id": "xg1mPZKKML5j",
        "colab": {
          "base_uri": "https://localhost:8080/"
        },
        "outputId": "f2250efa-2efb-4372-97c4-018ab6a3d458"
      },
      "source": [
        "while True:\n",
        "  try:\n",
        "    x = int(input('Enter a positive integer (0 to exit): '))\n",
        "    if x < 0:\n",
        "      raise Exception('Sorry, only positive numbers are allowed!')\n",
        "    elif x == 0:\n",
        "      break\n",
        "    \n",
        "    print(f'Formatted random array:')\n",
        "    print(np.random.randint(0, x, 20))\n",
        "  \n",
        "  except Exception as e:\n",
        "    print(f'{e}\\nTry again!...')"
      ],
      "execution_count": 17,
      "outputs": [
        {
          "name": "stdout",
          "output_type": "stream",
          "text": [
            "Enter a positive integer (0 to exit): hello\n",
            "invalid literal for int() with base 10: 'hello'\n",
            "Try again!...\n",
            "Enter a positive integer (0 to exit): -10\n",
            "Sorry, only positive numbers are allowed!\n",
            "Try again!...\n",
            "Enter a positive integer (0 to exit): 10\n",
            "Formatted random array:\n",
            "[5 5 6 2 8 4 7 9 4 4 5 9 5 7 8 8 8 3 9 1]\n",
            "Enter a positive integer (0 to exit): 0\n"
          ]
        }
      ]
    },
    {
      "cell_type": "markdown",
      "metadata": {
        "id": "980PKtbu9Z0k"
      },
      "source": [
        "# 3. SHAPE, LENGTH, TYPE, RESHAPE, AND MAX/MIN VALUES"
      ]
    },
    {
      "cell_type": "code",
      "metadata": {
        "id": "MIxxZhxSADVj",
        "colab": {
          "base_uri": "https://localhost:8080/"
        },
        "outputId": "7b9eced3-03bf-4282-a621-1651574a5b56"
      },
      "source": [
        "# Let's define a one-dimensional array \n",
        "x = np.array([-30, 4, 50, 60, 29, 15, 22, 90])\n",
        "x"
      ],
      "execution_count": 18,
      "outputs": [
        {
          "output_type": "execute_result",
          "data": {
            "text/plain": [
              "array([-30,   4,  50,  60,  29,  15,  22,  90])"
            ]
          },
          "metadata": {},
          "execution_count": 18
        }
      ]
    },
    {
      "cell_type": "code",
      "metadata": {
        "id": "O9mMBErG6YJr",
        "colab": {
          "base_uri": "https://localhost:8080/"
        },
        "outputId": "1a81c847-076b-4c0e-d1f1-333e677f6ea0"
      },
      "source": [
        "# Get Length of a numpy array\n",
        "len(x)"
      ],
      "execution_count": 19,
      "outputs": [
        {
          "output_type": "execute_result",
          "data": {
            "text/plain": [
              "8"
            ]
          },
          "metadata": {},
          "execution_count": 19
        }
      ]
    },
    {
      "cell_type": "code",
      "metadata": {
        "id": "fo3vYjNI9lGF",
        "colab": {
          "base_uri": "https://localhost:8080/"
        },
        "outputId": "c8fce0a1-ae16-40c2-8a77-493fca83a765"
      },
      "source": [
        "# Get shape\n",
        "x.shape"
      ],
      "execution_count": 20,
      "outputs": [
        {
          "output_type": "execute_result",
          "data": {
            "text/plain": [
              "(8,)"
            ]
          },
          "metadata": {},
          "execution_count": 20
        }
      ]
    },
    {
      "cell_type": "code",
      "metadata": {
        "id": "fdkzRVuB9lR6",
        "colab": {
          "base_uri": "https://localhost:8080/"
        },
        "outputId": "7c609da8-2e69-4189-eed9-996d3e8b872f"
      },
      "source": [
        "# Obtain the datatype\n",
        "x.dtype, type(x)"
      ],
      "execution_count": 21,
      "outputs": [
        {
          "output_type": "execute_result",
          "data": {
            "text/plain": [
              "(dtype('int64'), numpy.ndarray)"
            ]
          },
          "metadata": {},
          "execution_count": 21
        }
      ]
    },
    {
      "cell_type": "code",
      "metadata": {
        "id": "GVnOSYnU9lLU",
        "colab": {
          "base_uri": "https://localhost:8080/"
        },
        "outputId": "de5cf923-f219-47a9-88dc-0f4c6a1bd962"
      },
      "source": [
        "# Reshape 1D array into a matrix\n",
        "print(x)\n",
        "x.reshape((2,4))"
      ],
      "execution_count": 22,
      "outputs": [
        {
          "output_type": "stream",
          "name": "stdout",
          "text": [
            "[-30   4  50  60  29  15  22  90]\n"
          ]
        },
        {
          "output_type": "execute_result",
          "data": {
            "text/plain": [
              "array([[-30,   4,  50,  60],\n",
              "       [ 29,  15,  22,  90]])"
            ]
          },
          "metadata": {},
          "execution_count": 22
        }
      ]
    },
    {
      "cell_type": "code",
      "metadata": {
        "id": "zb1UVnsW9lI_",
        "colab": {
          "base_uri": "https://localhost:8080/"
        },
        "outputId": "3e55e593-492f-4ab6-e48e-3ada89b881ea"
      },
      "source": [
        "# Obtain the maximum element (value)\n",
        "x.max()"
      ],
      "execution_count": 23,
      "outputs": [
        {
          "output_type": "execute_result",
          "data": {
            "text/plain": [
              "90"
            ]
          },
          "metadata": {},
          "execution_count": 23
        }
      ]
    },
    {
      "cell_type": "code",
      "metadata": {
        "id": "q1yArvkA-R5P",
        "colab": {
          "base_uri": "https://localhost:8080/"
        },
        "outputId": "fd5bce36-233a-4772-e11c-dcb58ef9b496"
      },
      "source": [
        "# Obtain the minimum element (value)\n",
        "x.min()"
      ],
      "execution_count": 24,
      "outputs": [
        {
          "output_type": "execute_result",
          "data": {
            "text/plain": [
              "-30"
            ]
          },
          "metadata": {},
          "execution_count": 24
        }
      ]
    },
    {
      "cell_type": "code",
      "metadata": {
        "id": "ehXgrFee-R3F",
        "colab": {
          "base_uri": "https://localhost:8080/"
        },
        "outputId": "17c729b1-e583-41ac-e0bd-25c44c596cf4"
      },
      "source": [
        "# Obtain the location of the max element\n",
        "print('Array             :', x)\n",
        "print('Max value         :', x.max())\n",
        "print('Index of max value:', x.argmax())"
      ],
      "execution_count": 25,
      "outputs": [
        {
          "output_type": "stream",
          "name": "stdout",
          "text": [
            "Array             : [-30   4  50  60  29  15  22  90]\n",
            "Max value         : 90\n",
            "Index of max value: 7\n"
          ]
        }
      ]
    },
    {
      "cell_type": "code",
      "metadata": {
        "id": "EnaJTGEy-R0Y",
        "colab": {
          "base_uri": "https://localhost:8080/"
        },
        "outputId": "e4be457a-ae9c-41df-9e4d-4b48bf052149"
      },
      "source": [
        "# Obtain the location of the min element\n",
        "print('Array             :', x)\n",
        "print('Min value         :', x.min())\n",
        "print('Index of min value:', x.argmin())"
      ],
      "execution_count": 26,
      "outputs": [
        {
          "output_type": "stream",
          "name": "stdout",
          "text": [
            "Array             : [-30   4  50  60  29  15  22  90]\n",
            "Min value         : -30\n",
            "Index of min value: 0\n"
          ]
        }
      ]
    },
    {
      "cell_type": "markdown",
      "metadata": {
        "id": "7LavgBBnIIJz"
      },
      "source": [
        "**MINI CHALLENGE #3:**\n",
        "- **Write a code that creates a 4x5 array inwhich numbers range between 300 and 500 such that the difference between elements is 10**"
      ]
    },
    {
      "cell_type": "code",
      "metadata": {
        "id": "CtwsbAQ6NGiN",
        "colab": {
          "base_uri": "https://localhost:8080/"
        },
        "outputId": "e98873f4-81c4-48d5-fc97-795d41be1f69"
      },
      "source": [
        "print(np.arange(300, 500, 10).reshape((4, 5)))"
      ],
      "execution_count": 27,
      "outputs": [
        {
          "output_type": "stream",
          "name": "stdout",
          "text": [
            "[[300 310 320 330 340]\n",
            " [350 360 370 380 390]\n",
            " [400 410 420 430 440]\n",
            " [450 460 470 480 490]]\n"
          ]
        }
      ]
    },
    {
      "cell_type": "markdown",
      "metadata": {
        "id": "zQ-QhrsgM2x8"
      },
      "source": [
        "**MINI CHALLENGE #4:**\n",
        "- **Write a code that creates a 20x20 numpy array of random values that ranges from -1000 to 1000 and obtain the maximum, minimum, and mean values** "
      ]
    },
    {
      "cell_type": "code",
      "metadata": {
        "id": "PS3ofoabMb9V",
        "colab": {
          "base_uri": "https://localhost:8080/"
        },
        "outputId": "09c7e2f8-a18b-4b8f-c45f-2605275f4509"
      },
      "source": [
        "a = np.random.randint(-1000, 1000, (20, 20))\n",
        "print('Array:')\n",
        "print(a, '\\n')\n",
        "print('Max value:', a.max())\n",
        "print('Min value:', a.min())\n",
        "print('Average  :', a.mean())"
      ],
      "execution_count": 28,
      "outputs": [
        {
          "output_type": "stream",
          "name": "stdout",
          "text": [
            "Array:\n",
            "[[ 590  252 -647  845 -912  503 -480  430  813 -174 -366 -134 -318 -829\n",
            "  -738  682  391 -438  448 -116]\n",
            " [ 922  830  -73  860  754  960  331 -670 -716 -203 -103 -708 -680  765\n",
            "   737 -361  251 -943 -626 -144]\n",
            " [ 336 -361 -588 -733   54 -600 -218 -954 -494  686 -227 -237 -580 -542\n",
            "  -669 -136 -765 -651  856 -543]\n",
            " [-664  -49 -629 -889  213 -425  913 -300  797 -879  207 -799  338  -65\n",
            "   714  462 -124  896  -80  150]\n",
            " [ 275   33  664 -796 -126 -887  483  158 -299  759 -127 -776   93  123\n",
            "   604 -157  370 -284   98  282]\n",
            " [ 453  511  813  978 -912 -857  180  -96   76  996  950 -465  -99  312\n",
            "   659  954  863  752  -67    1]\n",
            " [-271 -821  100  421   21 -497  711 -282 -231  151  -74  914 -832 -392\n",
            "  -835  506  606  483  654 -476]\n",
            " [ -31  234 -267   70  514 -211  164  978  228  -16  759 -619  779  963\n",
            "  -850 -875 -212  545 -332  539]\n",
            " [-252  740 -273 -982 -544 -612  995 -909 -874  698 -397  685  377 -686\n",
            "    75  379  195   49  632   96]\n",
            " [ -76 -826 -651  768 -436   69   80  -97 -779 -256 -485  145 -358  125\n",
            "  -169  614  290  901  862  250]\n",
            " [ 133 -713 -545  442  890  191  771 -847  624  427  -76 -301 -794  484\n",
            "   222  555  945  511  648 -145]\n",
            " [ 829 -285 -856 -716  670  393 -778  993  -31  582 -574  267  715  777\n",
            "   867  618 -291   57  176  660]\n",
            " [-776 -231  827  879  251  132 -905 -107 -128 -318 -855  656 -474 -252\n",
            "   389 -412 -365 -768 -943 -546]\n",
            " [ 708  130 -259 -283  339   12 -928   66 -888   52 -613  856  149  106\n",
            "   986  702  490   68 -853  299]\n",
            " [ 533   70  867  452  963  573 -754    1  532  247 -313  212 -785   44\n",
            "   444  553 -222  793 -437 -179]\n",
            " [-957 -919 -235  478  289 -881  166   98  982  152 -528 -737 -110 -996\n",
            "  -239  -32 -866 -260 -229  156]\n",
            " [  31 -551  -11 -689  686  623 -127  930  427  461 -576  294 -512  995\n",
            "  -137 -654 -923 -321  228 -913]\n",
            " [-892  -14  410 -363  936 -807 -607 -857  436 -198  220 -888 -119  -76\n",
            "  -226 -711  829   84 -778 -582]\n",
            " [ 360 -195  723   32  987  734  435 -671 -325 -125 -535 -683 -408   88\n",
            "   -35 -328 -321 -332 -872  805]\n",
            " [  40 -974  872  261  326 -947  283  132  691 -948 -819 -417 -520  654\n",
            "  -845 -622 -209   22 -111 -637]] \n",
            "\n",
            "Max value: 996\n",
            "Min value: -996\n",
            "Average  : -8.2125\n"
          ]
        }
      ]
    },
    {
      "cell_type": "markdown",
      "metadata": {
        "id": "VRyk_VYQArV3"
      },
      "source": [
        "# 4. MATHEMATICAL OPERATIONS"
      ]
    },
    {
      "cell_type": "code",
      "metadata": {
        "id": "vm-gmaQG-Vvd",
        "colab": {
          "base_uri": "https://localhost:8080/"
        },
        "outputId": "c9f1567a-35c1-4f6f-a013-8016c31c5ebf"
      },
      "source": [
        "# np.arange() returns an evenly spaced values within a given interval\n",
        "np.arange(10)"
      ],
      "execution_count": 29,
      "outputs": [
        {
          "output_type": "execute_result",
          "data": {
            "text/plain": [
              "array([0, 1, 2, 3, 4, 5, 6, 7, 8, 9])"
            ]
          },
          "metadata": {},
          "execution_count": 29
        }
      ]
    },
    {
      "cell_type": "code",
      "metadata": {
        "id": "ED0OSzpw2p9R",
        "colab": {
          "base_uri": "https://localhost:8080/"
        },
        "outputId": "4340aa05-f12c-4285-b981-f708a951e399"
      },
      "source": [
        "# Add 2 numpy arrays together\n",
        "x = np.arange(1, 10)\n",
        "y = np.arange(1, 10)\n",
        "\n",
        "x + y"
      ],
      "execution_count": 30,
      "outputs": [
        {
          "output_type": "execute_result",
          "data": {
            "text/plain": [
              "array([ 2,  4,  6,  8, 10, 12, 14, 16, 18])"
            ]
          },
          "metadata": {},
          "execution_count": 30
        }
      ]
    },
    {
      "cell_type": "code",
      "metadata": {
        "id": "TH6xTJcuAzK-",
        "colab": {
          "base_uri": "https://localhost:8080/"
        },
        "outputId": "c7bea1a7-e11f-45b6-92a0-650058b18f6b"
      },
      "source": [
        "# sqrt\n",
        "np.sqrt(x)"
      ],
      "execution_count": 31,
      "outputs": [
        {
          "output_type": "execute_result",
          "data": {
            "text/plain": [
              "array([1.        , 1.41421356, 1.73205081, 2.        , 2.23606798,\n",
              "       2.44948974, 2.64575131, 2.82842712, 3.        ])"
            ]
          },
          "metadata": {},
          "execution_count": 31
        }
      ]
    },
    {
      "cell_type": "code",
      "source": [
        "# power 2\n",
        "print(x**2)\n",
        "np.square(x)"
      ],
      "metadata": {
        "colab": {
          "base_uri": "https://localhost:8080/"
        },
        "id": "9lTi7spOmElz",
        "outputId": "c1e42845-ac05-4d9b-cddd-60fb2bcca7aa"
      },
      "execution_count": 32,
      "outputs": [
        {
          "output_type": "stream",
          "name": "stdout",
          "text": [
            "[ 1  4  9 16 25 36 49 64 81]\n"
          ]
        },
        {
          "output_type": "execute_result",
          "data": {
            "text/plain": [
              "array([ 1,  4,  9, 16, 25, 36, 49, 64, 81])"
            ]
          },
          "metadata": {},
          "execution_count": 32
        }
      ]
    },
    {
      "cell_type": "code",
      "metadata": {
        "id": "A0T25q5bAzIw",
        "colab": {
          "base_uri": "https://localhost:8080/"
        },
        "outputId": "5452cd06-e79f-4fd0-c461-e870d642bba3"
      },
      "source": [
        "# e^x\n",
        "np.exp(x)"
      ],
      "execution_count": 33,
      "outputs": [
        {
          "output_type": "execute_result",
          "data": {
            "text/plain": [
              "array([2.71828183e+00, 7.38905610e+00, 2.00855369e+01, 5.45981500e+01,\n",
              "       1.48413159e+02, 4.03428793e+02, 1.09663316e+03, 2.98095799e+03,\n",
              "       8.10308393e+03])"
            ]
          },
          "metadata": {},
          "execution_count": 33
        }
      ]
    },
    {
      "cell_type": "markdown",
      "metadata": {
        "id": "-mj5Mwc2MmY2"
      },
      "source": [
        "**MINI CHALLENGE #5:**\n",
        "- **Given the X and Y values below, obtain the distance between them**\n",
        "\n",
        "\n",
        "```\n",
        "X = [3, 20, 30]\n",
        "Y = [4, 6, 7]\n",
        "```"
      ]
    },
    {
      "cell_type": "code",
      "metadata": {
        "id": "LfvrGIb83zCA",
        "colab": {
          "base_uri": "https://localhost:8080/"
        },
        "outputId": "be01a32c-88d0-439e-e8c8-c746e056324e"
      },
      "source": [
        "x = np.array([3, 20, 30])\n",
        "y = np.array([4, 6, 7])\n",
        "\n",
        "print(np.sqrt((x-y)**2))\n",
        "print(np.abs(x-y))"
      ],
      "execution_count": 34,
      "outputs": [
        {
          "output_type": "stream",
          "name": "stdout",
          "text": [
            "[ 1. 14. 23.]\n",
            "[ 1 14 23]\n"
          ]
        }
      ]
    },
    {
      "cell_type": "markdown",
      "metadata": {
        "id": "ZA-Yb20mCYLl"
      },
      "source": [
        "# 5. SLICING AND INDEXING "
      ]
    },
    {
      "cell_type": "code",
      "metadata": {
        "id": "Bu6rhQ99BFCp",
        "colab": {
          "base_uri": "https://localhost:8080/"
        },
        "outputId": "fcb9e308-8a69-4dc0-8ed3-ea175d8e140a"
      },
      "source": [
        "x = np.array([20, 40, 50, 21, 15])\n",
        "x"
      ],
      "execution_count": 35,
      "outputs": [
        {
          "output_type": "execute_result",
          "data": {
            "text/plain": [
              "array([20, 40, 50, 21, 15])"
            ]
          },
          "metadata": {},
          "execution_count": 35
        }
      ]
    },
    {
      "cell_type": "code",
      "metadata": {
        "id": "9TuEXJxgCdi_",
        "colab": {
          "base_uri": "https://localhost:8080/"
        },
        "outputId": "ddf682a4-a8a3-4a25-c0e4-7accbfda8dac"
      },
      "source": [
        "# Access specific index from the numpy array\n",
        "x[0]"
      ],
      "execution_count": 36,
      "outputs": [
        {
          "output_type": "execute_result",
          "data": {
            "text/plain": [
              "20"
            ]
          },
          "metadata": {},
          "execution_count": 36
        }
      ]
    },
    {
      "cell_type": "code",
      "metadata": {
        "id": "EjisujRgCdh4",
        "colab": {
          "base_uri": "https://localhost:8080/"
        },
        "outputId": "15874688-8fd2-4893-f9f7-78e6653f831a"
      },
      "source": [
        "# Starting from the first index 0 up until and NOT inlcluding the last element\n",
        "x[0:3]"
      ],
      "execution_count": 37,
      "outputs": [
        {
          "output_type": "execute_result",
          "data": {
            "text/plain": [
              "array([20, 40, 50])"
            ]
          },
          "metadata": {},
          "execution_count": 37
        }
      ]
    },
    {
      "cell_type": "code",
      "metadata": {
        "id": "1nWlP602Cdg3",
        "colab": {
          "base_uri": "https://localhost:8080/"
        },
        "outputId": "423066b2-5826-4e00-fce3-a63f9fec6eaf"
      },
      "source": [
        "# Broadcasting, altering several values in a numpy array at once\n",
        "print(x)\n",
        "x[0:2] = 10\n",
        "print(x)"
      ],
      "execution_count": 38,
      "outputs": [
        {
          "output_type": "stream",
          "name": "stdout",
          "text": [
            "[20 40 50 21 15]\n",
            "[10 10 50 21 15]\n"
          ]
        }
      ]
    },
    {
      "cell_type": "code",
      "metadata": {
        "id": "fVKbwHguCddn",
        "colab": {
          "base_uri": "https://localhost:8080/"
        },
        "outputId": "5af4f62e-e7ad-4d7b-eedf-07b3dc995351"
      },
      "source": [
        "# Let's define a two dimensional numpy array\n",
        "matrix = np.random.randint(1,10, (5, 5))\n",
        "matrix"
      ],
      "execution_count": 39,
      "outputs": [
        {
          "output_type": "execute_result",
          "data": {
            "text/plain": [
              "array([[2, 9, 3, 7, 5],\n",
              "       [6, 5, 6, 4, 3],\n",
              "       [8, 2, 9, 1, 3],\n",
              "       [2, 6, 8, 8, 8],\n",
              "       [2, 4, 2, 8, 6]])"
            ]
          },
          "metadata": {},
          "execution_count": 39
        }
      ]
    },
    {
      "cell_type": "code",
      "metadata": {
        "id": "Ea7ukwEzCda-",
        "colab": {
          "base_uri": "https://localhost:8080/"
        },
        "outputId": "fbc7d57e-e370-43da-a633-bd0d13a17155"
      },
      "source": [
        "# Get a row from a mtrix\n",
        "matrix[2]"
      ],
      "execution_count": 40,
      "outputs": [
        {
          "output_type": "execute_result",
          "data": {
            "text/plain": [
              "array([8, 2, 9, 1, 3])"
            ]
          },
          "metadata": {},
          "execution_count": 40
        }
      ]
    },
    {
      "cell_type": "code",
      "metadata": {
        "id": "8KJk10J8Ci8k",
        "colab": {
          "base_uri": "https://localhost:8080/"
        },
        "outputId": "f7643b73-1bf5-4bf6-e416-09dadf63bb7b"
      },
      "source": [
        "# Get one element\n",
        "matrix[2,0]"
      ],
      "execution_count": 41,
      "outputs": [
        {
          "output_type": "execute_result",
          "data": {
            "text/plain": [
              "8"
            ]
          },
          "metadata": {},
          "execution_count": 41
        }
      ]
    },
    {
      "cell_type": "code",
      "metadata": {
        "id": "lWsIgHYRCi5e",
        "colab": {
          "base_uri": "https://localhost:8080/"
        },
        "outputId": "f8d6b022-1f53-463c-aeb3-2ebaedf2b1cf"
      },
      "source": [
        "# Getting an small portion of the matrix\n",
        "print('Full matrix: ')\n",
        "print(matrix, '\\n\\n')\n",
        "print('Small portion of the matrix:')\n",
        "print(matrix[:3], '\\n')\n",
        "print(matrix[2:], '\\n')\n",
        "print(matrix[:, :2], '\\n')\n",
        "print(matrix[:, 2:])"
      ],
      "execution_count": 42,
      "outputs": [
        {
          "output_type": "stream",
          "name": "stdout",
          "text": [
            "Full matrix: \n",
            "[[2 9 3 7 5]\n",
            " [6 5 6 4 3]\n",
            " [8 2 9 1 3]\n",
            " [2 6 8 8 8]\n",
            " [2 4 2 8 6]] \n",
            "\n",
            "\n",
            "Small portion of the matrix:\n",
            "[[2 9 3 7 5]\n",
            " [6 5 6 4 3]\n",
            " [8 2 9 1 3]] \n",
            "\n",
            "[[8 2 9 1 3]\n",
            " [2 6 8 8 8]\n",
            " [2 4 2 8 6]] \n",
            "\n",
            "[[2 9]\n",
            " [6 5]\n",
            " [8 2]\n",
            " [2 6]\n",
            " [2 4]] \n",
            "\n",
            "[[3 7 5]\n",
            " [6 4 3]\n",
            " [9 1 3]\n",
            " [8 8 8]\n",
            " [2 8 6]]\n"
          ]
        }
      ]
    },
    {
      "cell_type": "markdown",
      "metadata": {
        "id": "zgyFPV5R8dUS"
      },
      "source": [
        "**MINI CHALLENGE #6:**\n",
        "- **In the following matrix, replace the last row with -1**\n",
        "- **Multiply the 2x2 matrix in the upper right corner by 2**\n",
        "\n",
        "\n",
        "\n",
        "```\n",
        "X = [2 30 20 -2 -4]\n",
        "    [3 4  40 -3 -2]\n",
        "    [-3 4 -6 90 10]\n",
        "    [25 45 34 22 12]\n",
        "    [13 24 22 32 37]\n",
        "```\n",
        "\n"
      ]
    },
    {
      "cell_type": "code",
      "source": [
        "x = np.array(\n",
        "  [[ 2,  30, 20, -2, -4],\n",
        "   [ 3,  4,  40, -3, -2],\n",
        "   [-3,  4, -6, 90, 10],\n",
        "   [25, 45, 34, 22, 12],\n",
        "   [13, 24, 22, 32, 37]]  \n",
        ")\n",
        "print('Original matrix: ')\n",
        "print(x, '\\n\\n')\n",
        "\n",
        "# Replace the last row with -1\n",
        "# x[-1, :] = -1 # Also this way\n",
        "x[-1] = -1\n",
        "\n",
        "# Multiply the 2x2 matrix in the upper right corner by 2\n",
        "x[:2,:2] = x[:2,:2]**2\n",
        "\n",
        "print('After modifications: ')\n",
        "print(x)"
      ],
      "metadata": {
        "colab": {
          "base_uri": "https://localhost:8080/"
        },
        "id": "jPd92byjo2EE",
        "outputId": "d980f365-f06a-4450-e060-6df2d4d00845"
      },
      "execution_count": 43,
      "outputs": [
        {
          "output_type": "stream",
          "name": "stdout",
          "text": [
            "Original matrix: \n",
            "[[ 2 30 20 -2 -4]\n",
            " [ 3  4 40 -3 -2]\n",
            " [-3  4 -6 90 10]\n",
            " [25 45 34 22 12]\n",
            " [13 24 22 32 37]] \n",
            "\n",
            "\n",
            "After modifications: \n",
            "[[  4 900  20  -2  -4]\n",
            " [  9  16  40  -3  -2]\n",
            " [ -3   4  -6  90  10]\n",
            " [ 25  45  34  22  12]\n",
            " [ -1  -1  -1  -1  -1]]\n"
          ]
        }
      ]
    },
    {
      "cell_type": "markdown",
      "metadata": {
        "id": "juuMOEq7Col_"
      },
      "source": [
        "# 6. ELEMENTS SELECTION (CONDITIONAL)"
      ]
    },
    {
      "cell_type": "code",
      "metadata": {
        "id": "UujCvuhMCt4K",
        "colab": {
          "base_uri": "https://localhost:8080/"
        },
        "outputId": "43bc2dcb-71c9-484a-92b6-d34f2287ac88"
      },
      "source": [
        "# Let's create a new matrix\n",
        "matrix = np.random.randint(1,10, (5, 5))\n",
        "matrix"
      ],
      "execution_count": 44,
      "outputs": [
        {
          "output_type": "execute_result",
          "data": {
            "text/plain": [
              "array([[3, 5, 6, 8, 3],\n",
              "       [8, 6, 5, 6, 7],\n",
              "       [2, 5, 2, 5, 2],\n",
              "       [7, 7, 8, 7, 4],\n",
              "       [5, 8, 3, 3, 9]])"
            ]
          },
          "metadata": {},
          "execution_count": 44
        }
      ]
    },
    {
      "cell_type": "code",
      "metadata": {
        "id": "JBgJ8ugyCvht",
        "colab": {
          "base_uri": "https://localhost:8080/"
        },
        "outputId": "40f91413-62e5-480e-c834-1e134556d203"
      },
      "source": [
        "# Select only items > 3\n",
        "filter = matrix>3\n",
        "\n",
        "print(filter)\n",
        "matrix[filter]"
      ],
      "execution_count": 45,
      "outputs": [
        {
          "output_type": "stream",
          "name": "stdout",
          "text": [
            "[[False  True  True  True False]\n",
            " [ True  True  True  True  True]\n",
            " [False  True False  True False]\n",
            " [ True  True  True  True  True]\n",
            " [ True  True False False  True]]\n"
          ]
        },
        {
          "output_type": "execute_result",
          "data": {
            "text/plain": [
              "array([5, 6, 8, 8, 6, 5, 6, 7, 5, 5, 7, 7, 8, 7, 4, 5, 8, 9])"
            ]
          },
          "metadata": {},
          "execution_count": 45
        }
      ]
    },
    {
      "cell_type": "code",
      "metadata": {
        "id": "TIQ-A7IBCvgl",
        "colab": {
          "base_uri": "https://localhost:8080/"
        },
        "outputId": "3127cb70-c2f1-4e58-8089-8e2198896330"
      },
      "source": [
        "# Select only even numbers\n",
        "filter = matrix%2==0\n",
        "\n",
        "print(filter)\n",
        "matrix[filter]"
      ],
      "execution_count": 46,
      "outputs": [
        {
          "output_type": "stream",
          "name": "stdout",
          "text": [
            "[[False False  True  True False]\n",
            " [ True  True False  True False]\n",
            " [ True False  True False  True]\n",
            " [False False  True False  True]\n",
            " [False  True False False False]]\n"
          ]
        },
        {
          "output_type": "execute_result",
          "data": {
            "text/plain": [
              "array([6, 8, 8, 6, 6, 2, 2, 2, 8, 4, 8])"
            ]
          },
          "metadata": {},
          "execution_count": 46
        }
      ]
    },
    {
      "cell_type": "markdown",
      "metadata": {
        "id": "39QiMh-W8ogs"
      },
      "source": [
        "**MINI CHALLENGE #7:**\n",
        "- **In the following matrix, replace negative elements by 0 and replace odd elements with 25**\n",
        "\n",
        "\n",
        "```\n",
        "X = [2 30 20 -2 -4]\n",
        "    [3 4  40 -3 -2]\n",
        "    [-3 4 -6 90 10]\n",
        "    [25 45 34 22 12]\n",
        "    [13 24 22 32 37]\n",
        "```\n"
      ]
    },
    {
      "cell_type": "code",
      "metadata": {
        "id": "AbN-vySf9gen",
        "colab": {
          "base_uri": "https://localhost:8080/"
        },
        "outputId": "2862307e-e450-4c91-ec7b-9530e9d276b6"
      },
      "source": [
        "x = np.array([\n",
        "  [ 2, 30, 20, -2, -4],\n",
        "  [ 3,  4, 40, -3, -2],\n",
        "  [-3,  4, -6, 90, 10],\n",
        "  [25, 45, 34, 22, 12],\n",
        "  [13, 24, 22, 32, 37]\n",
        "])\n",
        "print('Original matrix: ')\n",
        "print(x, '\\n\\n')\n",
        "\n",
        "# Replace negative elements by 0\n",
        "filter = x < 0\n",
        "x[filter] = 0\n",
        "\n",
        "# Replace odd elements with 25\n",
        "filter = x%2 == 0\n",
        "x[~filter] = 25\n",
        "\n",
        "print('After modifications: ')\n",
        "print(x)"
      ],
      "execution_count": 47,
      "outputs": [
        {
          "output_type": "stream",
          "name": "stdout",
          "text": [
            "Original matrix: \n",
            "[[ 2 30 20 -2 -4]\n",
            " [ 3  4 40 -3 -2]\n",
            " [-3  4 -6 90 10]\n",
            " [25 45 34 22 12]\n",
            " [13 24 22 32 37]] \n",
            "\n",
            "\n",
            "After modifications: \n",
            "[[ 2 30 20  0  0]\n",
            " [25  4 40  0  0]\n",
            " [ 0  4  0 90 10]\n",
            " [25 25 34 22 12]\n",
            " [25 24 22 32 25]]\n"
          ]
        }
      ]
    },
    {
      "cell_type": "markdown",
      "metadata": {
        "id": "dakv7iPFgw7Y"
      },
      "source": [
        "# EXCELLENT JOB!"
      ]
    },
    {
      "cell_type": "markdown",
      "metadata": {
        "id": "pNWQrMz6KnIF"
      },
      "source": [
        "# MINI CHALLENGES SOLUTIONS"
      ]
    },
    {
      "cell_type": "markdown",
      "metadata": {
        "id": "6AMqSvtAKj6o"
      },
      "source": [
        "**MINI CHALLENGE #1 SOLUTION:** \n",
        "- **Write a code that creates the following 2x4 numpy array**\n",
        "\n",
        "```\n",
        "[[4 6 8 7] \n",
        "[20 5 6 9]]\n",
        "```"
      ]
    },
    {
      "cell_type": "code",
      "metadata": {
        "id": "ivvFzDy-KlQP",
        "colab": {
          "base_uri": "https://localhost:8080/"
        },
        "outputId": "02ea0afe-62df-452c-d502-58244e3b4b66"
      },
      "source": [
        "x = np.array([[[4, 6, 8, 7] , [20, 5, 6, 9]]])\n",
        "x"
      ],
      "execution_count": 48,
      "outputs": [
        {
          "output_type": "execute_result",
          "data": {
            "text/plain": [
              "array([[[ 4,  6,  8,  7],\n",
              "        [20,  5,  6,  9]]])"
            ]
          },
          "metadata": {},
          "execution_count": 48
        }
      ]
    },
    {
      "cell_type": "markdown",
      "metadata": {
        "id": "2GskzNkOMFu0"
      },
      "source": [
        "**MINI CHALLENGE #2 SOLUTION:**\n",
        "- **Write a code that takes in a number x from the user and creates a 1x20 array with random numbers ranging from 0 to x**"
      ]
    },
    {
      "cell_type": "code",
      "metadata": {
        "id": "0vnDfvwFMFu3",
        "colab": {
          "base_uri": "https://localhost:8080/"
        },
        "outputId": "ea3fd487-e046-49a0-c77f-a41645ec6691"
      },
      "source": [
        "x = int(input(\"Please enter a positive integer value: \"))\n",
        "x = np.random.randint(1, x, 20)\n",
        "x"
      ],
      "execution_count": 49,
      "outputs": [
        {
          "name": "stdout",
          "output_type": "stream",
          "text": [
            "Please enter a positive integer value: 10\n"
          ]
        },
        {
          "output_type": "execute_result",
          "data": {
            "text/plain": [
              "array([6, 8, 7, 3, 5, 1, 3, 1, 2, 3, 2, 6, 3, 6, 7, 3, 1, 2, 5, 1])"
            ]
          },
          "metadata": {},
          "execution_count": 49
        }
      ]
    },
    {
      "cell_type": "markdown",
      "metadata": {
        "id": "LOVruiHdMRMd"
      },
      "source": [
        "**MINI CHALLENGE #3 SOLUTION:**\n",
        "- **Write a code that creates a 4x5 array inwhich numbers ranging between 300 and 500 such that the difference between elements is 10**"
      ]
    },
    {
      "cell_type": "code",
      "metadata": {
        "id": "WtSncbsHMRMg",
        "colab": {
          "base_uri": "https://localhost:8080/"
        },
        "outputId": "8f99c216-ad76-4f5d-bb22-19f34284df8e"
      },
      "source": [
        "x = np.arange(300, 500, 10)\n",
        "x.shape"
      ],
      "execution_count": 50,
      "outputs": [
        {
          "output_type": "execute_result",
          "data": {
            "text/plain": [
              "(20,)"
            ]
          },
          "metadata": {},
          "execution_count": 50
        }
      ]
    },
    {
      "cell_type": "code",
      "metadata": {
        "id": "2_8vFVF7MRMp",
        "colab": {
          "base_uri": "https://localhost:8080/"
        },
        "outputId": "01e69083-9895-450e-d9b7-15a99e5b29ca"
      },
      "source": [
        "x = x.reshape(4, 5)\n",
        "print(x)"
      ],
      "execution_count": 51,
      "outputs": [
        {
          "output_type": "stream",
          "name": "stdout",
          "text": [
            "[[300 310 320 330 340]\n",
            " [350 360 370 380 390]\n",
            " [400 410 420 430 440]\n",
            " [450 460 470 480 490]]\n"
          ]
        }
      ]
    },
    {
      "cell_type": "markdown",
      "metadata": {
        "id": "NSuiOFRx1pSY"
      },
      "source": [
        "**MINI CHALLENGE #4 SOLUTION:**\n",
        "- **Write a code that creates a 20x20 numpy array of random values that ranges from -1000 to 1000 and obtain the maximum, minimum, and mean values** "
      ]
    },
    {
      "cell_type": "code",
      "metadata": {
        "id": "445Vi21GMYS7",
        "colab": {
          "base_uri": "https://localhost:8080/"
        },
        "outputId": "7e587797-f1c4-49bd-dea6-149b009a1751"
      },
      "source": [
        "x = np.random.randint(-1000, 1000, (20, 20))\n",
        "print(x)\n",
        "print('The maximum value is: {} and the minimum value is:{}'.format(x.min(), x.max()))"
      ],
      "execution_count": 52,
      "outputs": [
        {
          "output_type": "stream",
          "name": "stdout",
          "text": [
            "[[  124    57  -840   338   518  -903  -486  -580   892   592  -438  -862\n",
            "   -933  -245   318   780   -95   422  -832   573]\n",
            " [ -953   -65  -718  -646  -155   871   374   675  -133    33   930  -830\n",
            "    855  -448  -871  -695  -350   804   564   827]\n",
            " [   30    96   496   748   646  -544   545   574   686   948  -357   987\n",
            "    535   578   614  -236    78 -1000  -209  -636]\n",
            " [  401  -507  -338  -446  -722   697  -959  -828  -498    42   169  -618\n",
            "   -984   649   578  -381   316   515   245   589]\n",
            " [ -530   992  -380  -584   797   740    85  -943  -964   949  -142   -40\n",
            "    239   895  -110  -692  -788  -762  -789  -501]\n",
            " [ -780   410  -823  -922    90  -561  -835  -492  -581   560   512   803\n",
            "    519   408   -83  -379  -535  -587   393   961]\n",
            " [ -232  -611    62   201  -907   947  -603  -813   863   162   491   536\n",
            "    360   277   134  -405  -920  -878  -188   446]\n",
            " [   12   397  -329  -688  -892  -720  -497   587  -331  -656  -723   111\n",
            "    559  -752  -476   767  -204  -437     7   758]\n",
            " [  684  -837  -137  -480  -649  -489  -289   684  -759   105  -724   404\n",
            "   -636   683  -477  -238   742   986  -996   701]\n",
            " [ -633   127  -783   -48   941  -207   266   -87   704   720   170    -9\n",
            "   -375   -70   666    52  -842   666   623  -696]\n",
            " [ -435  -779   234  -461   228   301   403   383  -907   435   387   880\n",
            "    202   871  -342   888   454  -882  -706  -787]\n",
            " [ -158  -185   231  -762   907  -133   -29  -659  -600   995   540   374\n",
            "    790  -349  -130  -520  -913  -531  -490   665]\n",
            " [  616   638  -330   312  -813   175     1   298   324   -39  -447   787\n",
            "   -515  -894  -673  -359   350  -967    30   457]\n",
            " [ -133  -365   494   694   175  -454    11  -634   671   961   -21   -44\n",
            "    178  -828   584  -403   247   949  -897  -584]\n",
            " [   34  -841   640   813  -510   166   373   891   522  -174    86  -942\n",
            "   -189   347  -958   576  -231  -551  -245   754]\n",
            " [ -987    16   108   201   723   665   100   738   518  -917   663   781\n",
            "   -709  -739  -273    79  -544  -737   811  -581]\n",
            " [ -578   -39   336   729  -705  -240   269  -534   -63  -589   487   723\n",
            "    900   143   958  -977   103   696  -106   135]\n",
            " [  387  -316  -601   613   741   903   638  -731  -278  -882   151  -323\n",
            "   -172   159   946   190  -203   273  -837   831]\n",
            " [ -177  -205   763  -691  -650   884  -969  -490    39   534   -46  -586\n",
            "    171  -683   733  -156   273  -957   771  -365]\n",
            " [   60   680  -684   803   815   378  -888     1   567   930   658  -451\n",
            "    -84  -729   397   828   536  -754   437  -484]]\n",
            "The maximum value is: -1000 and the minimum value is:995\n"
          ]
        }
      ]
    },
    {
      "cell_type": "markdown",
      "metadata": {
        "id": "s1p4WaNB4yFf"
      },
      "source": [
        "**MINI CHALLENGE #5 SOLUTION:**\n",
        "- **Given the X and Y values below, obtain the distance between them**\n",
        "\n",
        "\n",
        "```\n",
        "X = [3, 20, 30]\n",
        "Y = [4, 6, 7]\n",
        "```\n",
        "\n",
        "\n"
      ]
    },
    {
      "cell_type": "code",
      "metadata": {
        "id": "_GJmf2Pl4yFi",
        "colab": {
          "base_uri": "https://localhost:8080/"
        },
        "outputId": "32f068d4-a0d7-4ad3-b759-a5e1f38ad398"
      },
      "source": [
        "X = np.array([3, 20, 30])\n",
        "Y = np.array([4, 6, 7])\n",
        "Z = np.sqrt(X**2 + Y**2)\n",
        "Z"
      ],
      "execution_count": 53,
      "outputs": [
        {
          "output_type": "execute_result",
          "data": {
            "text/plain": [
              "array([ 5.        , 20.88061302, 30.8058436 ])"
            ]
          },
          "metadata": {},
          "execution_count": 53
        }
      ]
    },
    {
      "cell_type": "markdown",
      "metadata": {
        "id": "EZ9i2CLm6Iuf"
      },
      "source": [
        "**MINI CHALLENGE #6 SOLUTION:**\n",
        "- **In the following matrix, replace the last row with -1**\n",
        "- **Multiply the 2x2 matrix in the upper right corner by 2**\n",
        "\n",
        "\n",
        "\n",
        "```\n",
        "X = [2 30 20 -2 -4]\n",
        "    [3 4  40 -3 -2]\n",
        "    [-3 4 -6 90 10]\n",
        "    [25 45 34 22 12]\n",
        "    [13 24 22 32 37]\n",
        "```\n",
        "\n",
        "\n"
      ]
    },
    {
      "cell_type": "code",
      "metadata": {
        "id": "qB7S_wIx6Hsm"
      },
      "source": [
        "X = np.array([[2, 30, 20, -2, -4],\n",
        "    [3, 4,  40, -3, -2],\n",
        "    [-3, 4, -6, 90, 10],\n",
        "    [25, 45, 34, 22, 12],\n",
        "    [13, 24, 22, 32, 37]])\n"
      ],
      "execution_count": 54,
      "outputs": []
    },
    {
      "cell_type": "code",
      "metadata": {
        "id": "y98hmGRe7Qtl",
        "colab": {
          "base_uri": "https://localhost:8080/"
        },
        "outputId": "4b3e9bdb-753f-40af-d64a-0fdc5d9d1963"
      },
      "source": [
        "X[4] = 0\n",
        "X"
      ],
      "execution_count": 55,
      "outputs": [
        {
          "output_type": "execute_result",
          "data": {
            "text/plain": [
              "array([[ 2, 30, 20, -2, -4],\n",
              "       [ 3,  4, 40, -3, -2],\n",
              "       [-3,  4, -6, 90, 10],\n",
              "       [25, 45, 34, 22, 12],\n",
              "       [ 0,  0,  0,  0,  0]])"
            ]
          },
          "metadata": {},
          "execution_count": 55
        }
      ]
    },
    {
      "cell_type": "code",
      "metadata": {
        "id": "6pLZ5lF87UFs"
      },
      "source": [
        "X[:2, 3:] = X[:2, 3:] * 2"
      ],
      "execution_count": 56,
      "outputs": []
    },
    {
      "cell_type": "code",
      "metadata": {
        "id": "WsqjANlB8Kva",
        "colab": {
          "base_uri": "https://localhost:8080/"
        },
        "outputId": "ad3ddcb5-64fa-4c8c-a786-151f3be3275e"
      },
      "source": [
        "X"
      ],
      "execution_count": 57,
      "outputs": [
        {
          "output_type": "execute_result",
          "data": {
            "text/plain": [
              "array([[ 2, 30, 20, -4, -8],\n",
              "       [ 3,  4, 40, -6, -4],\n",
              "       [-3,  4, -6, 90, 10],\n",
              "       [25, 45, 34, 22, 12],\n",
              "       [ 0,  0,  0,  0,  0]])"
            ]
          },
          "metadata": {},
          "execution_count": 57
        }
      ]
    },
    {
      "cell_type": "markdown",
      "metadata": {
        "id": "2oikl6JS9YUs"
      },
      "source": [
        "**MINI CHALLENGE #7 SOLUTION:**\n",
        "- **In the following matrix, replace negative elements by 0 and replace odd elements with 25**\n",
        "\n",
        "\n",
        "```\n",
        "X = [2 30 20 -2 -4]\n",
        "    [3 4  40 -3 -2]\n",
        "    [-3 4 -6 90 10]\n",
        "    [25 45 34 22 12]\n",
        "    [13 24 22 32 37]\n",
        "```\n"
      ]
    },
    {
      "cell_type": "code",
      "metadata": {
        "id": "h105KzGr9YUu",
        "colab": {
          "base_uri": "https://localhost:8080/"
        },
        "outputId": "83a660a7-bae1-4103-9822-1dcc84e7e384"
      },
      "source": [
        "X = np.array([[2, 30, 20, -2, -4],\n",
        "    [3, 4,  40, -3, -2],\n",
        "    [-3, 4, -6, 90, 10],\n",
        "    [25, 45, 34, 22, 12],\n",
        "    [13, 24, 22, 32, 37]])\n",
        "\n",
        "X[X%2==1] = 25\n",
        "X[X<0] = 0\n",
        "X"
      ],
      "execution_count": 58,
      "outputs": [
        {
          "output_type": "execute_result",
          "data": {
            "text/plain": [
              "array([[ 2, 30, 20,  0,  0],\n",
              "       [25,  4, 40, 25,  0],\n",
              "       [25,  4,  0, 90, 10],\n",
              "       [25, 25, 34, 22, 12],\n",
              "       [25, 24, 22, 32, 25]])"
            ]
          },
          "metadata": {},
          "execution_count": 58
        }
      ]
    }
  ]
}