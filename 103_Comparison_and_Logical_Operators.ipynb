{
  "nbformat": 4,
  "nbformat_minor": 0,
  "metadata": {
    "colab": {
      "provenance": [],
      "collapsed_sections": []
    },
    "kernelspec": {
      "name": "python3",
      "display_name": "Python 3"
    }
  },
  "cells": [
    {
      "cell_type": "code",
      "source": [
        "#Environment preparation\n",
        "import sys\n",
        "!pip install expectexception"
      ],
      "metadata": {
        "colab": {
          "base_uri": "https://localhost:8080/"
        },
        "id": "lPUV4lFLGE2l",
        "outputId": "c220bf90-0ec1-4575-c51b-0f305359c122"
      },
      "execution_count": null,
      "outputs": [
        {
          "output_type": "stream",
          "name": "stdout",
          "text": [
            "Looking in indexes: https://pypi.org/simple, https://us-python.pkg.dev/colab-wheels/public/simple/\n",
            "Requirement already satisfied: expectexception in /usr/local/lib/python3.7/dist-packages (0.1.1)\n"
          ]
        }
      ]
    },
    {
      "cell_type": "code",
      "source": [
        "# Preparing environment\n",
        "import expectexception\n",
        "\n",
        "# %%expect_exception TypeError"
      ],
      "metadata": {
        "id": "xBfy28JCGFHQ"
      },
      "execution_count": null,
      "outputs": []
    },
    {
      "cell_type": "markdown",
      "metadata": {
        "id": "CV9YCHsGtAP5"
      },
      "source": [
        "# 1. COMPARISON OPERATORS\n"
      ]
    },
    {
      "cell_type": "code",
      "metadata": {
        "id": "o9VtOcrKtCc1",
        "colab": {
          "base_uri": "https://localhost:8080/"
        },
        "outputId": "55a49854-32c8-462c-df2c-8aada78885bf"
      },
      "source": [
        "# Comparison Operator output could be \"True\" or \"False\"\n",
        "# Let's cover equal '==' comparison operator first\n",
        "# It's simply a question: \"Is stock_1_price equals stock_2_price or not?\"\n",
        "# \"True\" output means condition is satisfied \n",
        "# \"False\" output means Condition is not satisfied (condition is not true) \n",
        "\n",
        "stock_1_price = 150\n",
        "stock_2_price = 150\n",
        "\n",
        "stock_1_price == stock_2_price"
      ],
      "execution_count": null,
      "outputs": [
        {
          "output_type": "execute_result",
          "data": {
            "text/plain": [
              "True"
            ]
          },
          "metadata": {},
          "execution_count": 3
        }
      ]
    },
    {
      "cell_type": "code",
      "metadata": {
        "id": "l48NWuCztX5G",
        "colab": {
          "base_uri": "https://localhost:8080/"
        },
        "outputId": "305d7cc7-524c-42cf-e67d-6ccbc04d2821"
      },
      "source": [
        "# Greater than or equal operator '>='\n",
        "stock_1_price >= stock_2_price"
      ],
      "execution_count": null,
      "outputs": [
        {
          "output_type": "execute_result",
          "data": {
            "text/plain": [
              "True"
            ]
          },
          "metadata": {},
          "execution_count": 4
        }
      ]
    },
    {
      "cell_type": "code",
      "metadata": {
        "id": "RmUrcn31tY0_"
      },
      "source": [
        "# Note that '==' is a comparison operator \n",
        "# Note that '=' is used for variable assignment (put 10 in stock_1_price)\n",
        "stock_1_price = 10"
      ],
      "execution_count": null,
      "outputs": []
    },
    {
      "cell_type": "code",
      "metadata": {
        "id": "TttdgxEPtY3z",
        "colab": {
          "base_uri": "https://localhost:8080/"
        },
        "outputId": "6b27303c-207d-44c6-e781-23dca910a656"
      },
      "source": [
        "stock_1_price"
      ],
      "execution_count": null,
      "outputs": [
        {
          "output_type": "execute_result",
          "data": {
            "text/plain": [
              "10"
            ]
          },
          "metadata": {},
          "execution_count": 6
        }
      ]
    },
    {
      "cell_type": "code",
      "metadata": {
        "id": "9fvPnQePtY9K",
        "colab": {
          "base_uri": "https://localhost:8080/"
        },
        "outputId": "a874c75f-c30e-490d-f3ec-4b34a14312ab"
      },
      "source": [
        "# Comparison operators work with strings as well\n",
        "string_1 = 'My string'\n",
        "string_2 = 'My string'\n",
        "\n",
        "string_1 == string_2"
      ],
      "execution_count": null,
      "outputs": [
        {
          "output_type": "execute_result",
          "data": {
            "text/plain": [
              "True"
            ]
          },
          "metadata": {},
          "execution_count": 7
        }
      ]
    },
    {
      "cell_type": "code",
      "metadata": {
        "id": "krIE9oTdtj-Q",
        "colab": {
          "base_uri": "https://localhost:8080/"
        },
        "outputId": "efeb5d91-44df-43c5-864e-49838ccbc2fd"
      },
      "source": [
        "# Both strings have to exactly match (lower case vs. upper case)\n",
        "string_1.lower() == string_1.upper()"
      ],
      "execution_count": null,
      "outputs": [
        {
          "output_type": "execute_result",
          "data": {
            "text/plain": [
              "False"
            ]
          },
          "metadata": {},
          "execution_count": 8
        }
      ]
    },
    {
      "cell_type": "code",
      "metadata": {
        "id": "WI6k596Xtlcc",
        "colab": {
          "base_uri": "https://localhost:8080/"
        },
        "outputId": "e323aed0-13cb-4166-a05f-3312e4280f3f"
      },
      "source": [
        "# Not equal comparison operator '!='\n",
        "string_1 != string_2"
      ],
      "execution_count": null,
      "outputs": [
        {
          "output_type": "execute_result",
          "data": {
            "text/plain": [
              "False"
            ]
          },
          "metadata": {},
          "execution_count": 9
        }
      ]
    },
    {
      "cell_type": "markdown",
      "metadata": {
        "id": "eNyKRJob4Xlo"
      },
      "source": [
        "**MINI CHALLENGE #1:**\n",
        "- **Without executing the code cell, What will this code generate?**\n",
        "\n",
        "```\n",
        "stock_1_price = 15\n",
        "stock_2_price = 10\n",
        "\n",
        "print(stock_1_price == stock_2_price) \n",
        "print(stock_1_price != stock_2_price) \n",
        "print(stock_1_price > stock_2_price)\n",
        "print(stock_1_price < stock_2_price) \n",
        "```\n"
      ]
    },
    {
      "cell_type": "code",
      "metadata": {
        "id": "-vRyMcIhlVPg",
        "colab": {
          "base_uri": "https://localhost:8080/"
        },
        "outputId": "7db733ee-82f1-441f-d38c-63fd316c0e49"
      },
      "source": [
        "stock_1_price = 15\n",
        "stock_2_price = 10\n",
        "\n",
        "print(stock_1_price == stock_2_price) \n",
        "print(stock_1_price != stock_2_price) \n",
        "print(stock_1_price > stock_2_price)\n",
        "print(stock_1_price < stock_2_price) "
      ],
      "execution_count": null,
      "outputs": [
        {
          "output_type": "stream",
          "name": "stdout",
          "text": [
            "False\n",
            "True\n",
            "True\n",
            "False\n"
          ]
        }
      ]
    },
    {
      "cell_type": "markdown",
      "metadata": {
        "id": "4ElLliXmvffI"
      },
      "source": [
        "# 2. LOGICAL OPERATORS"
      ]
    },
    {
      "cell_type": "code",
      "metadata": {
        "id": "DZ4lIrr9viXb",
        "colab": {
          "base_uri": "https://localhost:8080/"
        },
        "outputId": "99af3d59-c2d4-4445-f400-cd10f263b108"
      },
      "source": [
        "# For \"and\" logical operators, both arguments must be \"True\" in order for the output to be \"True\" \n",
        "# (Note that this is the only case in which the 'and' logical operator generates a True output)\n",
        "# 1 and 1 = 1\n",
        "True and True"
      ],
      "execution_count": null,
      "outputs": [
        {
          "output_type": "execute_result",
          "data": {
            "text/plain": [
              "True"
            ]
          },
          "metadata": {},
          "execution_count": 11
        }
      ]
    },
    {
      "cell_type": "code",
      "metadata": {
        "id": "tBllQqO2vxPe",
        "colab": {
          "base_uri": "https://localhost:8080/"
        },
        "outputId": "8bb09a77-faff-400d-bc92-d79882f629fe"
      },
      "source": [
        "# 0 and 1 = 0\n",
        "False and True"
      ],
      "execution_count": null,
      "outputs": [
        {
          "output_type": "execute_result",
          "data": {
            "text/plain": [
              "False"
            ]
          },
          "metadata": {},
          "execution_count": 12
        }
      ]
    },
    {
      "cell_type": "code",
      "metadata": {
        "id": "ebgLEPrQvy1h",
        "colab": {
          "base_uri": "https://localhost:8080/"
        },
        "outputId": "b5a41f11-fd64-4867-adbf-29d3934c05ec"
      },
      "source": [
        "# 0 and 0 = 0\n",
        "False and False"
      ],
      "execution_count": null,
      "outputs": [
        {
          "output_type": "execute_result",
          "data": {
            "text/plain": [
              "False"
            ]
          },
          "metadata": {},
          "execution_count": 13
        }
      ]
    },
    {
      "cell_type": "code",
      "metadata": {
        "id": "Y_FB6C6yvzqb",
        "colab": {
          "base_uri": "https://localhost:8080/"
        },
        "outputId": "fcc5aca8-031c-43fa-fcc9-46a6de1c67c2"
      },
      "source": [
        "# For \"or\" logical operators, if any one of the arguments is \"True\", the output will be \"True\" \n",
        "# 1 or 1 = 1\n",
        "True or True"
      ],
      "execution_count": null,
      "outputs": [
        {
          "output_type": "execute_result",
          "data": {
            "text/plain": [
              "True"
            ]
          },
          "metadata": {},
          "execution_count": 14
        }
      ]
    },
    {
      "cell_type": "code",
      "metadata": {
        "id": "kiy1MhGrvzu9",
        "colab": {
          "base_uri": "https://localhost:8080/"
        },
        "outputId": "edf376e6-c959-4886-8faf-6ac8cc9c56ed"
      },
      "source": [
        "# 1 or 0 = 1\n",
        "True or False"
      ],
      "execution_count": null,
      "outputs": [
        {
          "output_type": "execute_result",
          "data": {
            "text/plain": [
              "True"
            ]
          },
          "metadata": {},
          "execution_count": 15
        }
      ]
    },
    {
      "cell_type": "code",
      "metadata": {
        "id": "S9Zo0wWovz2j",
        "colab": {
          "base_uri": "https://localhost:8080/"
        },
        "outputId": "a2ef3b70-07d9-476d-90b5-0d833b8ff3d8"
      },
      "source": [
        "# 0 or 1 = 1\n",
        "False or True"
      ],
      "execution_count": null,
      "outputs": [
        {
          "output_type": "execute_result",
          "data": {
            "text/plain": [
              "True"
            ]
          },
          "metadata": {},
          "execution_count": 16
        }
      ]
    },
    {
      "cell_type": "code",
      "metadata": {
        "id": "Tu1BB3FAvz8-",
        "colab": {
          "base_uri": "https://localhost:8080/"
        },
        "outputId": "b4d2aa79-9cbb-4a28-9830-e0b2278aa097"
      },
      "source": [
        "# 0 or 0 = 0 (Note that this is the only case in which the 'or' logical operator generates a False output)\n",
        "False or False"
      ],
      "execution_count": null,
      "outputs": [
        {
          "output_type": "execute_result",
          "data": {
            "text/plain": [
              "False"
            ]
          },
          "metadata": {},
          "execution_count": 17
        }
      ]
    },
    {
      "cell_type": "code",
      "metadata": {
        "id": "KC9ArCvsvz7J",
        "colab": {
          "base_uri": "https://localhost:8080/"
        },
        "outputId": "c702bd78-2022-4f42-8921-8297523d72db"
      },
      "source": [
        " # True and False = False \n",
        "True and False"
      ],
      "execution_count": null,
      "outputs": [
        {
          "output_type": "execute_result",
          "data": {
            "text/plain": [
              "False"
            ]
          },
          "metadata": {},
          "execution_count": 18
        }
      ]
    },
    {
      "cell_type": "code",
      "metadata": {
        "id": "1kVyRF3Avz5V",
        "colab": {
          "base_uri": "https://localhost:8080/"
        },
        "outputId": "9f613647-11ee-468e-fe65-c0b15ced8825"
      },
      "source": [
        "# True or False = True\n",
        "True or False"
      ],
      "execution_count": null,
      "outputs": [
        {
          "output_type": "execute_result",
          "data": {
            "text/plain": [
              "True"
            ]
          },
          "metadata": {},
          "execution_count": 19
        }
      ]
    },
    {
      "cell_type": "markdown",
      "metadata": {
        "id": "vjvXsd7ezN4y"
      },
      "source": [
        "**MINI CHALLENGE #2:**\n",
        "- **Without executing the code cell, What will these two lines of code generate?**\n",
        "\n",
        "```\n",
        "print('FINANCE'!='FINANCE' and (10 > 3) and (20 == 20)) \n",
        "```\n",
        "\n",
        "```\n",
        "print('Finance'!='FINANCE' or (16 > 20) or (25 == 25)) \n",
        "```\n"
      ]
    },
    {
      "cell_type": "code",
      "metadata": {
        "id": "4u7cWLq15VZt",
        "colab": {
          "base_uri": "https://localhost:8080/"
        },
        "outputId": "fbc7c0b3-548c-4390-e68b-60d09f214c68"
      },
      "source": [
        "print('FINANCE'!='FINANCE' and (10 > 3) and (20 == 20)) \n",
        "print('Finance'!='FINANCE' or (16 > 20) or (25 == 25)) "
      ],
      "execution_count": null,
      "outputs": [
        {
          "output_type": "stream",
          "name": "stdout",
          "text": [
            "False\n",
            "True\n"
          ]
        }
      ]
    },
    {
      "cell_type": "markdown",
      "metadata": {
        "id": "GVMXs0iZ0xJp"
      },
      "source": [
        "**MINI CHALLENGE #3:**\n",
        "- **Without executing the code cell, What will these two lines of code generate?**\n",
        "\n",
        "```\n",
        "a = 5\n",
        "b = 3.5\n",
        "\n",
        "print(a == b or a != b) \n",
        "print(a == b and a != b) \n",
        "```\n",
        "\n"
      ]
    },
    {
      "cell_type": "code",
      "metadata": {
        "id": "xA9pXas-5WJB",
        "colab": {
          "base_uri": "https://localhost:8080/"
        },
        "outputId": "752eac07-7487-4ac8-c5a8-9f59c14652fa"
      },
      "source": [
        "a = 5\n",
        "b = 3.5\n",
        "\n",
        "print(a == b or a != b) \n",
        "print(a == b and a != b) "
      ],
      "execution_count": null,
      "outputs": [
        {
          "output_type": "stream",
          "name": "stdout",
          "text": [
            "True\n",
            "False\n"
          ]
        }
      ]
    },
    {
      "cell_type": "markdown",
      "metadata": {
        "id": "STR2UADaxtHC"
      },
      "source": [
        "# 3. CONDITIONAL STATEMENTS"
      ]
    },
    {
      "cell_type": "markdown",
      "metadata": {
        "id": "owrJExRxX--G"
      },
      "source": [
        "- A simple if-else statement is written in Python as follows:\n",
        "\n",
        "```\n",
        "if condition:\n",
        "  statement #1\n",
        "else:\n",
        "  statement #2\n",
        "```\n",
        "\n",
        "- If the condition is true, execute the first indented statement\n",
        "- if the condition is not true, then execute the else indented statements. \n",
        "- Note that Python uses indentation (whitespace) to indicate code sections and scope."
      ]
    },
    {
      "cell_type": "code",
      "metadata": {
        "id": "9iiHeyl_xvte",
        "colab": {
          "base_uri": "https://localhost:8080/"
        },
        "outputId": "de1d6108-feb3-4c15-dcda-7d6ea9a5e7f4"
      },
      "source": [
        "if True:\n",
        "  print('If condition is True')\n",
        "else:\n",
        "  print('If condition is False')"
      ],
      "execution_count": null,
      "outputs": [
        {
          "output_type": "stream",
          "name": "stdout",
          "text": [
            "If condition is True\n"
          ]
        }
      ]
    },
    {
      "cell_type": "code",
      "metadata": {
        "id": "M05mmLIWxzCP",
        "colab": {
          "base_uri": "https://localhost:8080/"
        },
        "outputId": "59d70348-3b3b-481a-8164-ae8a1858d37b"
      },
      "source": [
        "if False:\n",
        "  print('If condition is True')\n",
        "else:\n",
        "  print('If condition is False')"
      ],
      "execution_count": null,
      "outputs": [
        {
          "output_type": "stream",
          "name": "stdout",
          "text": [
            "If condition is False\n"
          ]
        }
      ]
    },
    {
      "cell_type": "code",
      "metadata": {
        "id": "4i8g3ORFxzFn",
        "colab": {
          "base_uri": "https://localhost:8080/"
        },
        "outputId": "14e35a99-23c5-40d2-9ad9-756685eb8f58"
      },
      "source": [
        "i = 3\n",
        "if i==1:\n",
        "  print('First statement is True')\n",
        "elif i==2:\n",
        "  print('Second statement is True')\n",
        "else:\n",
        "  print('Last statement is True')"
      ],
      "execution_count": null,
      "outputs": [
        {
          "output_type": "stream",
          "name": "stdout",
          "text": [
            "Last statement is True\n"
          ]
        }
      ]
    },
    {
      "cell_type": "code",
      "metadata": {
        "id": "cZKbXTtVxzAG",
        "colab": {
          "base_uri": "https://localhost:8080/"
        },
        "outputId": "c71e1153-3129-4978-b1db-98d780e3162d"
      },
      "source": [
        "i = 1\n",
        "if i==1:\n",
        "  print('First statement is True')\n",
        "elif i==2:\n",
        "  print('Second statement is True')\n",
        "else:\n",
        "  print('Last statement is True')"
      ],
      "execution_count": null,
      "outputs": [
        {
          "output_type": "stream",
          "name": "stdout",
          "text": [
            "First statement is True\n"
          ]
        }
      ]
    },
    {
      "cell_type": "code",
      "metadata": {
        "id": "qXCMo76Wxy95",
        "colab": {
          "base_uri": "https://localhost:8080/"
        },
        "outputId": "16b3b9ae-1de7-4d86-ca8c-363d385b3fdc"
      },
      "source": [
        "# Let's take an input from the user and grant or deny access accordingly\n",
        "while True:\n",
        "  username = input('Enter your username: ')\n",
        "  if username == 'Ryan':\n",
        "    print('Access granted!')\n",
        "    break\n",
        "  else:\n",
        "    print('Try again!...')"
      ],
      "execution_count": null,
      "outputs": [
        {
          "output_type": "stream",
          "name": "stdout",
          "text": [
            "Enter your username: ryan\n",
            "Try again!...\n",
            "Enter your username: Ryan\n",
            "Access granted!\n"
          ]
        }
      ]
    },
    {
      "cell_type": "code",
      "metadata": {
        "id": "mgZaUUxhxy75",
        "colab": {
          "base_uri": "https://localhost:8080/"
        },
        "outputId": "8f1dc300-26d5-4c2e-91f6-6c746dae73a0"
      },
      "source": [
        "# Let's make the code more robust (case insensitive)\n",
        "while True:\n",
        "  username = input('Enter your username: ')\n",
        "  if username.upper() == 'RYAN':\n",
        "    print('Access granted!')\n",
        "    break\n",
        "  else:\n",
        "    print('Try again!...')"
      ],
      "execution_count": null,
      "outputs": [
        {
          "output_type": "stream",
          "name": "stdout",
          "text": [
            "Enter your username: brian\n",
            "Try again!...\n",
            "Enter your username: ryan\n",
            "Access granted!\n"
          ]
        }
      ]
    },
    {
      "cell_type": "markdown",
      "metadata": {
        "id": "E9b_qCZ12Baz"
      },
      "source": [
        "**MINI CHALLENGE #4:**\n",
        "- **Write a code that takes a number from the user and indicates if it's positive or negative**"
      ]
    },
    {
      "cell_type": "code",
      "metadata": {
        "id": "I4-RpDvp2kHG",
        "colab": {
          "base_uri": "https://localhost:8080/"
        },
        "outputId": "f1b84406-2807-4b26-9c95-b85911fdf797"
      },
      "source": [
        "while True:\n",
        "  try:\n",
        "    x = int(input('Enter a number (0 to exit): '))\n",
        "    if x > 0:\n",
        "      print(f'{x} is a positive number.')\n",
        "    elif x < 0:\n",
        "      print(f'{x} is a negative number.')\n",
        "    elif x==0:\n",
        "      print('Bye!')\n",
        "      break\n",
        "  except Exception as e:\n",
        "    print(e, '\\nTry again!')"
      ],
      "execution_count": null,
      "outputs": [
        {
          "output_type": "stream",
          "name": "stdout",
          "text": [
            "Enter a number (0 to exit): Hello\n",
            "invalid literal for int() with base 10: 'Hello' \n",
            "Try again!\n",
            "Enter a number (0 to exit): -10\n",
            "-10 is a negative number.\n",
            "Enter a number (0 to exit): 10\n",
            "10 is a positive number.\n",
            "Enter a number (0 to exit): 0\n",
            "Bye!\n"
          ]
        }
      ]
    },
    {
      "cell_type": "markdown",
      "metadata": {
        "id": "OnJwHMUe2Ztp"
      },
      "source": [
        "**MINI CHALLENGE #5:**\n",
        "- **Write a code that takes a number from the user and checks if the number is divisible by 3 but is not a multiple of 7**"
      ]
    },
    {
      "cell_type": "code",
      "metadata": {
        "id": "KHv409N93OjP",
        "colab": {
          "base_uri": "https://localhost:8080/"
        },
        "outputId": "a4418efb-2061-4fbb-bcf3-d74644a75058"
      },
      "source": [
        "while True:\n",
        "  try:\n",
        "    x = int(input('Enter a number (0 to exit): '))\n",
        "    if (x % 3 == 0) and (x % 7 != 0) :\n",
        "      print(f'{x} is divisible by 3 and is not a multiple of 7.')\n",
        "    elif x==0:\n",
        "      print('Bye!')\n",
        "      break\n",
        "    else:\n",
        "      print(f'Try again, we need a number divisible by 3 but not multiple of 7.')\n",
        "  except Exception as e:\n",
        "    print(e, '\\nTry again!')"
      ],
      "execution_count": null,
      "outputs": [
        {
          "output_type": "stream",
          "name": "stdout",
          "text": [
            "Enter a number (0 to exit): Hello\n",
            "invalid literal for int() with base 10: 'Hello' \n",
            "Try again!\n",
            "Enter a number (0 to exit): 23\n",
            "Try again, we need a number divisible by 3 but not multiple of 7.\n",
            "Enter a number (0 to exit): 21\n",
            "Try again, we need a number divisible by 3 but not multiple of 7.\n",
            "Enter a number (0 to exit): 9\n",
            "9 is divisible by 3 and is not a multiple of 7.\n",
            "Enter a number (0 to exit): 0\n",
            "Bye!\n"
          ]
        }
      ]
    },
    {
      "cell_type": "markdown",
      "metadata": {
        "id": "bMs3OKSo29_D"
      },
      "source": [
        "**MINI CHALLENGE #6:** \n",
        "- **Write a code that takes a number from the user and indicate if the number is even or odd**"
      ]
    },
    {
      "cell_type": "code",
      "metadata": {
        "id": "RaDyZQqC28Ya",
        "colab": {
          "base_uri": "https://localhost:8080/"
        },
        "outputId": "c8532d6b-62cf-4540-8c11-2efd1e0b1be9"
      },
      "source": [
        "while True:\n",
        "  try:\n",
        "    x = int(input('Enter a number (0 to exit): '))\n",
        "    if x == 0:\n",
        "      print('Bye!')\n",
        "      break\n",
        "    elif x % 2 == 0:\n",
        "      print(f'{x} is even.')\n",
        "    else:\n",
        "      print(f'{x} os odd.')\n",
        "  except Exception as e:\n",
        "    print(e, '\\nTry again!')"
      ],
      "execution_count": null,
      "outputs": [
        {
          "output_type": "stream",
          "name": "stdout",
          "text": [
            "Enter a number (0 to exit): Hello\n",
            "invalid literal for int() with base 10: 'Hello' \n",
            "Try again!\n",
            "Enter a number (0 to exit): 23\n",
            "23 os odd.\n",
            "Enter a number (0 to exit): 20\n",
            "20 is even.\n",
            "Enter a number (0 to exit): 0\n",
            "Bye!\n"
          ]
        }
      ]
    },
    {
      "cell_type": "markdown",
      "metadata": {
        "id": "OHTSxeq90GFt"
      },
      "source": [
        "# MINI CHALLENGE SOLUTIONS"
      ]
    },
    {
      "cell_type": "markdown",
      "metadata": {
        "id": "_TkjGyHolLOh"
      },
      "source": [
        "**MINI CHALLENGE #1 SOLUTION:**\n",
        "- **Without executing the code cell, What will this code generate?**\n",
        "\n",
        "```\n",
        "stock_1_price = 15\n",
        "stock_2_price = 10\n",
        "\n",
        "print(stock_1_price == stock_2_price) \n",
        "print(stock_1_price != stock_2_price) \n",
        "print(stock_1_price > stock_2_price)\n",
        "print(stock_1_price < stock_2_price) \n",
        "```\n"
      ]
    },
    {
      "cell_type": "code",
      "metadata": {
        "id": "jI9I6Xv4lLOi",
        "colab": {
          "base_uri": "https://localhost:8080/"
        },
        "outputId": "6f3b7bf5-0520-4d00-fe03-b1cefda6f086"
      },
      "source": [
        "stock_1_price = 15\n",
        "stock_2_price = 10\n",
        "\n",
        "print(stock_1_price == stock_2_price) \n",
        "print(stock_1_price != stock_2_price) \n",
        "print(stock_1_price > stock_2_price)\n",
        "print(stock_1_price < stock_2_price) "
      ],
      "execution_count": null,
      "outputs": [
        {
          "output_type": "stream",
          "name": "stdout",
          "text": [
            "False\n",
            "True\n",
            "True\n",
            "False\n"
          ]
        }
      ]
    },
    {
      "cell_type": "markdown",
      "metadata": {
        "id": "vuw6vDPK0Jmd"
      },
      "source": [
        "**MINI CHALLENGE #2 SOLUTION:**\n",
        "- **Without executing the code cell, What will these two lines of code generate?**\n",
        "\n",
        "```\n",
        "print( 'Finance'!='FINANCE' and (10 > 3) and (20 == 20)) \n",
        "```\n",
        "\n",
        "```\n",
        "print( 'Finance'!='FINANCE' or (16 > 20) or (25 == 25)) \n",
        "```\n"
      ]
    },
    {
      "cell_type": "code",
      "metadata": {
        "id": "gYd-N11Y0NZC",
        "colab": {
          "base_uri": "https://localhost:8080/"
        },
        "outputId": "a2e947c8-3e94-4f38-9f03-4a065092521c"
      },
      "source": [
        "# FALSE and TRUE and TRUE\n",
        "print('FINANCE'!='FINANCE' and (10 > 3) and (20 == 20)) "
      ],
      "execution_count": null,
      "outputs": [
        {
          "output_type": "stream",
          "name": "stdout",
          "text": [
            "False\n"
          ]
        }
      ]
    },
    {
      "cell_type": "code",
      "metadata": {
        "id": "CaWri1bQ0Pys",
        "colab": {
          "base_uri": "https://localhost:8080/"
        },
        "outputId": "a2ac8bf1-65cd-4603-aaaa-8f72887763d0"
      },
      "source": [
        "# TRUE or FALSE or TRUE\n",
        "print('Finance'!='FINANCE' or (16 > 20) or (25 == 25)) "
      ],
      "execution_count": null,
      "outputs": [
        {
          "output_type": "stream",
          "name": "stdout",
          "text": [
            "True\n"
          ]
        }
      ]
    },
    {
      "cell_type": "markdown",
      "metadata": {
        "id": "ckRo860a1YRo"
      },
      "source": [
        "**MINI CHALLENGE #3 SOLUTION:**\n",
        "- **Without executing the code cell, What will these two lines of code generate?**\n",
        "\n",
        "```\n",
        "a = 5\n",
        "b = 3.5\n",
        "\n",
        "print(a == b or a != b) \n",
        "print(a == b and a != b) \n",
        "```\n"
      ]
    },
    {
      "cell_type": "code",
      "metadata": {
        "id": "eFMOENhv1avh",
        "colab": {
          "base_uri": "https://localhost:8080/"
        },
        "outputId": "45740b09-c0dc-464b-deda-2573df33781b"
      },
      "source": [
        "a = 5\n",
        "b = 3.5\n",
        "\n",
        "print(a == b or a != b) # False or True = True \n",
        "print(a == b and a != b) # False and True = False"
      ],
      "execution_count": null,
      "outputs": [
        {
          "output_type": "stream",
          "name": "stdout",
          "text": [
            "True\n",
            "False\n"
          ]
        }
      ]
    },
    {
      "cell_type": "markdown",
      "metadata": {
        "id": "7Utj-SiU3UuK"
      },
      "source": [
        "**MINI CHALLENGE #4 SOLUTION:**\n",
        "- **Write a code that takes a number from the user and indicates if it's positive or negative or zero**"
      ]
    },
    {
      "cell_type": "code",
      "metadata": {
        "id": "JtX7pRr03Y7r",
        "colab": {
          "base_uri": "https://localhost:8080/"
        },
        "outputId": "ba5a55ac-7a35-4fae-8458-12f2d88dc5c3"
      },
      "source": [
        "x = int(input(\"Please enter an integer: \"))\n",
        "\n",
        "if x < 0:\n",
        "    print('Number is Negative')\n",
        "elif x > 0:\n",
        "    print('Number is Positive')\n",
        "else:    \n",
        "    print ('Number is zero')"
      ],
      "execution_count": null,
      "outputs": [
        {
          "output_type": "stream",
          "name": "stdout",
          "text": [
            "Please enter an integer: 10\n",
            "Number is Positive\n"
          ]
        }
      ]
    },
    {
      "cell_type": "markdown",
      "metadata": {
        "id": "4yvXX18Y3UuL"
      },
      "source": [
        "**MINI CHALLENGE #5 SOLUTION:**\n",
        "- **Write a code that takes a number from the user and checks if the number is divisible by 3 but is not a multiple of 7**"
      ]
    },
    {
      "cell_type": "code",
      "metadata": {
        "id": "mmyi-AFc3ZLd",
        "colab": {
          "base_uri": "https://localhost:8080/"
        },
        "outputId": "099900c3-061f-4859-910b-9428c47b1c09"
      },
      "source": [
        "# Try 21\n",
        "\n",
        "i = int(input(\"Enter a number between 1 and 100:\"))\n",
        "\n",
        "if (i % 3 == 0) and (i % 7 !=0):\n",
        "    print(\"Number satisfies the requirement; The number is divisible by 3 and not multiple of 7\")\n",
        "else:\n",
        "    print(\"The number does not satisfy the requirements\")\n"
      ],
      "execution_count": null,
      "outputs": [
        {
          "output_type": "stream",
          "name": "stdout",
          "text": [
            "Enter a number between 1 and 100:9\n",
            "Number satisfies the requirement; The number is divisible by 3 and not multiple of 7\n"
          ]
        }
      ]
    },
    {
      "cell_type": "markdown",
      "metadata": {
        "id": "Y-I6GMYA3UuM"
      },
      "source": [
        "**MINI CHALLENGE #6 SOLUTION:** \n",
        "- **Write a code that takes a number from the user and indicate if the number is even or odd**"
      ]
    },
    {
      "cell_type": "code",
      "metadata": {
        "id": "VNWzhMS03Z71",
        "colab": {
          "base_uri": "https://localhost:8080/"
        },
        "outputId": "975ebf32-e4fe-4b03-80b7-3dc1a0add2d2"
      },
      "source": [
        "x = int(input(\"Please enter an integer from 1 to 1000: \"))\n",
        "\n",
        "if x % 2==0:\n",
        "    print('Number is Even')\n",
        "else:\n",
        "    print('Number is odd')"
      ],
      "execution_count": null,
      "outputs": [
        {
          "output_type": "stream",
          "name": "stdout",
          "text": [
            "Please enter an integer from 1 to 1000: 55\n",
            "Number is odd\n"
          ]
        }
      ]
    }
  ]
}