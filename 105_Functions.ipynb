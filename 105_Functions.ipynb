{
  "nbformat": 4,
  "nbformat_minor": 0,
  "metadata": {
    "colab": {
      "provenance": [],
      "collapsed_sections": []
    },
    "kernelspec": {
      "name": "python3",
      "display_name": "Python 3"
    }
  },
  "cells": [
    {
      "cell_type": "code",
      "source": [
        "#Environment preparation\n",
        "import sys\n",
        "!pip install expectexception"
      ],
      "metadata": {
        "colab": {
          "base_uri": "https://localhost:8080/"
        },
        "id": "rZwdmDW0wN_X",
        "outputId": "8e026966-07c8-4d8e-d66e-293956135c7c"
      },
      "execution_count": 1,
      "outputs": [
        {
          "output_type": "stream",
          "name": "stdout",
          "text": [
            "Looking in indexes: https://pypi.org/simple, https://us-python.pkg.dev/colab-wheels/public/simple/\n",
            "Requirement already satisfied: expectexception in /usr/local/lib/python3.7/dist-packages (0.1.1)\n"
          ]
        }
      ]
    },
    {
      "cell_type": "code",
      "source": [
        "# Preparing environment\n",
        "import expectexception\n",
        "\n",
        "# %%expect_exception TypeError"
      ],
      "metadata": {
        "id": "UI2XpDnNwOOd"
      },
      "execution_count": 2,
      "outputs": []
    },
    {
      "cell_type": "markdown",
      "metadata": {
        "id": "2qdHbV6LKCdn"
      },
      "source": [
        "# 1. BUILT-IN FUNCTIONS"
      ]
    },
    {
      "cell_type": "code",
      "metadata": {
        "id": "e027nLRtKclL",
        "colab": {
          "base_uri": "https://localhost:8080/"
        },
        "outputId": "fac8f5d6-0362-4f15-9b68-3a563f359e7d"
      },
      "source": [
        "# There are many built-in functions that you can leverage directly \n",
        "# Let's define 2 lists x and y\n",
        "x = [4, 5, 1, 2, 8, 5]\n",
        "y = list(range(1, 7))\n",
        "\n",
        "print(x)\n",
        "print(y)"
      ],
      "execution_count": 3,
      "outputs": [
        {
          "output_type": "stream",
          "name": "stdout",
          "text": [
            "[4, 5, 1, 2, 8, 5]\n",
            "[1, 2, 3, 4, 5, 6]\n"
          ]
        }
      ]
    },
    {
      "cell_type": "code",
      "metadata": {
        "id": "sOb6YyohK3XA",
        "colab": {
          "base_uri": "https://localhost:8080/"
        },
        "outputId": "bae7efee-94f3-4fb2-968d-a89bf45bf1c3"
      },
      "source": [
        "# Let's obtain the length of y\n",
        "len(y)"
      ],
      "execution_count": 4,
      "outputs": [
        {
          "output_type": "execute_result",
          "data": {
            "text/plain": [
              "6"
            ]
          },
          "metadata": {},
          "execution_count": 4
        }
      ]
    },
    {
      "cell_type": "code",
      "metadata": {
        "id": "E2d-scjBK3f_",
        "colab": {
          "base_uri": "https://localhost:8080/"
        },
        "outputId": "265a65b3-f21f-4ec0-e0d3-5de11a0ae330"
      },
      "source": [
        "# Let's obtain the minimum value \n",
        "min(y)"
      ],
      "execution_count": 5,
      "outputs": [
        {
          "output_type": "execute_result",
          "data": {
            "text/plain": [
              "1"
            ]
          },
          "metadata": {},
          "execution_count": 5
        }
      ]
    },
    {
      "cell_type": "code",
      "metadata": {
        "id": "MPcUuoY6K3id",
        "colab": {
          "base_uri": "https://localhost:8080/"
        },
        "outputId": "aa58dfe1-0167-43ad-e1e2-40465d174496"
      },
      "source": [
        "# Let's obtain the maximum value\n",
        "max(y)"
      ],
      "execution_count": 6,
      "outputs": [
        {
          "output_type": "execute_result",
          "data": {
            "text/plain": [
              "6"
            ]
          },
          "metadata": {},
          "execution_count": 6
        }
      ]
    },
    {
      "cell_type": "code",
      "metadata": {
        "id": "oo4EvfwgK3nQ",
        "colab": {
          "base_uri": "https://localhost:8080/"
        },
        "outputId": "abbe5d9d-2049-41a6-a804-e3ece527667c"
      },
      "source": [
        "# Let's create a tuple out of the list\n",
        "z = tuple(x)\n",
        "\n",
        "print(z)\n",
        "type(z)"
      ],
      "execution_count": 7,
      "outputs": [
        {
          "output_type": "stream",
          "name": "stdout",
          "text": [
            "(4, 5, 1, 2, 8, 5)\n"
          ]
        },
        {
          "output_type": "execute_result",
          "data": {
            "text/plain": [
              "tuple"
            ]
          },
          "metadata": {},
          "execution_count": 7
        }
      ]
    },
    {
      "cell_type": "code",
      "metadata": {
        "id": "NYVetBn-Kcpk",
        "colab": {
          "base_uri": "https://localhost:8080/"
        },
        "outputId": "d9d3526e-a8ae-4507-c14e-845dabdad36d"
      },
      "source": [
        "# Let's obtain the sum of elements in x\n",
        "sum(x)"
      ],
      "execution_count": 8,
      "outputs": [
        {
          "output_type": "execute_result",
          "data": {
            "text/plain": [
              "25"
            ]
          },
          "metadata": {},
          "execution_count": 8
        }
      ]
    },
    {
      "cell_type": "markdown",
      "metadata": {
        "id": "CvaYA-XocFOc"
      },
      "source": [
        "**MINI CHALLENGE #1:**\n",
        "- **Write a code that takes in 2 lists x = [-1 -4 -7] and y = [-3 7 4] and  calculates the absolute sum of all its elements |x+y|**\n"
      ]
    },
    {
      "cell_type": "code",
      "source": [
        "x = [-1, -4, -7]\n",
        "y = [-3, 7, 4]\n",
        "\n",
        "abs(sum(x + y))"
      ],
      "metadata": {
        "colab": {
          "base_uri": "https://localhost:8080/"
        },
        "id": "TKhV0zu99F4S",
        "outputId": "5382cd8b-e4de-4106-b77a-1c16e449d88a"
      },
      "execution_count": 9,
      "outputs": [
        {
          "output_type": "execute_result",
          "data": {
            "text/plain": [
              "4"
            ]
          },
          "metadata": {},
          "execution_count": 9
        }
      ]
    },
    {
      "cell_type": "code",
      "metadata": {
        "id": "DMYqI7CBekNI",
        "colab": {
          "base_uri": "https://localhost:8080/"
        },
        "outputId": "08806db2-b476-40c4-9cfd-fb3d80a9d2d2"
      },
      "source": [
        "sum([abs(i) for i in x + y])"
      ],
      "execution_count": 10,
      "outputs": [
        {
          "output_type": "execute_result",
          "data": {
            "text/plain": [
              "26"
            ]
          },
          "metadata": {},
          "execution_count": 10
        }
      ]
    },
    {
      "cell_type": "markdown",
      "metadata": {
        "id": "AHrwK11xMArY"
      },
      "source": [
        "# 2. FUNCTIONS"
      ]
    },
    {
      "cell_type": "code",
      "metadata": {
        "id": "LhhFvM60MGrX",
        "colab": {
          "base_uri": "https://localhost:8080/"
        },
        "outputId": "15683d72-b9b3-4598-c755-cf80688e637f"
      },
      "source": [
        "# Let's define a function named \"my_function\" that does not receive any arguments\n",
        "# The function simply prints out content and does not return anything\n",
        "def my_function():\n",
        "  print('Welcome to Python for Finance course!')\n",
        "\n",
        "# Function call\n",
        "my_function()"
      ],
      "execution_count": 11,
      "outputs": [
        {
          "output_type": "stream",
          "name": "stdout",
          "text": [
            "Welcome to Python for Finance course!\n"
          ]
        }
      ]
    },
    {
      "cell_type": "code",
      "metadata": {
        "id": "OSVyOu91MGuW",
        "colab": {
          "base_uri": "https://localhost:8080/"
        },
        "outputId": "60dd8458-2b42-4641-ca62-2af3a05f8677"
      },
      "source": [
        "# Define a function that takes in argument x and return the squared value \n",
        "def square(x):\n",
        "  return x**2\n",
        "\n",
        "# Call the function\n",
        "square(4)"
      ],
      "execution_count": 12,
      "outputs": [
        {
          "output_type": "execute_result",
          "data": {
            "text/plain": [
              "16"
            ]
          },
          "metadata": {},
          "execution_count": 12
        }
      ]
    },
    {
      "cell_type": "code",
      "metadata": {
        "id": "6ET-hFiSMPxi",
        "colab": {
          "base_uri": "https://localhost:8080/"
        },
        "outputId": "bcf729c9-395e-4397-8add-a8609b88086b"
      },
      "source": [
        "# Define a function with default value \n",
        "def default_value(x=20000):\n",
        "  print(f'My total portfolio worth is: {x:,.0f}')\n",
        "\n",
        "# If you pass an argument to the function, it overwrites the default value \n",
        "default_value(600000)\n",
        "\n",
        "# If you don't pass an argument, the default value \"20000\" will be used instead\n",
        "default_value()"
      ],
      "execution_count": 13,
      "outputs": [
        {
          "output_type": "stream",
          "name": "stdout",
          "text": [
            "My total portfolio worth is: 600,000\n",
            "My total portfolio worth is: 20,000\n"
          ]
        }
      ]
    },
    {
      "cell_type": "markdown",
      "metadata": {
        "id": "DB1zlBEEfDlA"
      },
      "source": [
        "**MINI CHALLENGE #2:** \n",
        "- **Write a code that takes in two inputs (number of shares and prices) from the user and calculate the total account balance**"
      ]
    },
    {
      "cell_type": "code",
      "metadata": {
        "id": "s7fbv5eApK97",
        "colab": {
          "base_uri": "https://localhost:8080/"
        },
        "outputId": "2c8bd49e-7448-457e-e969-081f8a35b159"
      },
      "source": [
        "def balance(shares, prices):\n",
        "  return shares * prices\n",
        "\n",
        "while True:\n",
        "  try: \n",
        "    shares = int(input('Number of shares: '))\n",
        "    prices = int(input('Price of each share: $'))\n",
        "  except Exception as e:\n",
        "    print(e, '\\nTry again!...')\n",
        "    continue\n",
        "\n",
        "  print(f'Total account balance = ${balance(shares, prices):,.2f}')\n",
        "  break"
      ],
      "execution_count": 14,
      "outputs": [
        {
          "output_type": "stream",
          "name": "stdout",
          "text": [
            "Number of shares: 100\n",
            "Price of each share: $hello\n",
            "invalid literal for int() with base 10: 'hello' \n",
            "Try again!...\n",
            "Number of shares: hello\n",
            "invalid literal for int() with base 10: 'hello' \n",
            "Try again!...\n",
            "Number of shares: 100\n",
            "Price of each share: $150\n",
            "Total account balance = $15,000.00\n"
          ]
        }
      ]
    },
    {
      "cell_type": "markdown",
      "metadata": {
        "id": "lBj4QkQEpLkX"
      },
      "source": [
        "# 3. LAMBDA EXPRESSIONS "
      ]
    },
    {
      "cell_type": "code",
      "metadata": {
        "id": "YtkjNLEypRTb",
        "colab": {
          "base_uri": "https://localhost:8080/"
        },
        "outputId": "91493d61-5052-4374-bdc4-a16cc1ce2f64"
      },
      "source": [
        "# Lambda function is used to create a function without a name \n",
        "# Lambda functions are mainly used with filter() and map() [they will be discussed later on]. \n",
        "# Lambda function can receive any number of arguments, but can only have one expression.\n",
        "\n",
        "# let's see how to create a basic function that squares the input\n",
        "def my_function(x):\n",
        "    return x**2\n",
        "\n",
        "# Function call\n",
        "my_function(3)"
      ],
      "execution_count": 15,
      "outputs": [
        {
          "output_type": "execute_result",
          "data": {
            "text/plain": [
              "9"
            ]
          },
          "metadata": {},
          "execution_count": 15
        }
      ]
    },
    {
      "cell_type": "code",
      "metadata": {
        "id": "r5u0-IOBpRZq",
        "colab": {
          "base_uri": "https://localhost:8080/"
        },
        "outputId": "17f0b3fd-3d00-440b-d2cf-e36a3a7db2fd"
      },
      "source": [
        "# We can do the same task using Lambda expression\n",
        "# Note that there is no function name\n",
        "f = lambda x: x**2\n",
        "\n",
        "f(3)"
      ],
      "execution_count": 16,
      "outputs": [
        {
          "output_type": "execute_result",
          "data": {
            "text/plain": [
              "9"
            ]
          },
          "metadata": {},
          "execution_count": 16
        }
      ]
    },
    {
      "cell_type": "code",
      "metadata": {
        "id": "OKcE7JHBuzTj",
        "colab": {
          "base_uri": "https://localhost:8080/"
        },
        "outputId": "a66f428d-e3d8-483a-b723-0cb844c3bdf4"
      },
      "source": [
        "# Note that lambda expression can take in more than one argument \n",
        "# there is only one expression that could be performed\n",
        "suma = lambda x, y, z: x+y+z\n",
        "\n",
        "suma(5, 3, 4)"
      ],
      "execution_count": 17,
      "outputs": [
        {
          "output_type": "execute_result",
          "data": {
            "text/plain": [
              "12"
            ]
          },
          "metadata": {},
          "execution_count": 17
        }
      ]
    },
    {
      "cell_type": "markdown",
      "metadata": {
        "id": "KTRBKK97fQGG"
      },
      "source": [
        "**MINI CHALLENGE #3:**\n",
        "- **Repeat mini challenge #2 (Write a code that takes in two inputs from the user and calculates the total) using lambda expressions instead**"
      ]
    },
    {
      "cell_type": "code",
      "metadata": {
        "id": "jz5bvTOmuHhG",
        "colab": {
          "base_uri": "https://localhost:8080/"
        },
        "outputId": "310574f3-ea6a-4aa7-b830-d28ede3d5941"
      },
      "source": [
        "balance = lambda shares, prices: shares * prices\n",
        "\n",
        "while True:\n",
        "  try: \n",
        "    shares = int(input('Number of shares: '))\n",
        "    prices = int(input('Price of each share: $'))\n",
        "  except Exception as e:\n",
        "    print(e, '\\nTry again!...')\n",
        "    continue\n",
        "\n",
        "  print(f'Total account balance = ${balance(shares, prices):,.2f}')\n",
        "  break"
      ],
      "execution_count": 18,
      "outputs": [
        {
          "output_type": "stream",
          "name": "stdout",
          "text": [
            "Number of shares: 100\n",
            "Price of each share: $150\n",
            "Total account balance = $15,000.00\n"
          ]
        }
      ]
    },
    {
      "cell_type": "markdown",
      "metadata": {
        "id": "S8pekOcjKF6H"
      },
      "source": [
        "# 4. MAP "
      ]
    },
    {
      "cell_type": "code",
      "metadata": {
        "id": "-zx6IFX7KdKi",
        "colab": {
          "base_uri": "https://localhost:8080/"
        },
        "outputId": "ab167145-bb44-4df2-b870-d9b658692f59"
      },
      "source": [
        "# The map() function takes in a function and a list.\n",
        "# map() performs an operation on the entire list and return the results in a new list.\n",
        "# Define two lists a and b\n",
        "a = [1, 4, 5, 6, 9]\n",
        "b = [1, 7, 9, 12, 7]\n",
        "print(a)\n",
        "print(b)"
      ],
      "execution_count": 19,
      "outputs": [
        {
          "output_type": "stream",
          "name": "stdout",
          "text": [
            "[1, 4, 5, 6, 9]\n",
            "[1, 7, 9, 12, 7]\n"
          ]
        }
      ]
    },
    {
      "cell_type": "code",
      "metadata": {
        "id": "l4AEJ33iih46"
      },
      "source": [
        "# Let's define a function that adds two elements together\n",
        "def summa(x, y):\n",
        "  return x + y"
      ],
      "execution_count": 20,
      "outputs": []
    },
    {
      "cell_type": "code",
      "metadata": {
        "id": "8ZEm6BjIKdQ7",
        "colab": {
          "base_uri": "https://localhost:8080/"
        },
        "outputId": "a390e7d3-9b05-428b-f64c-7cbcd454d296"
      },
      "source": [
        "# You can now use map() to apply a function to the entire list and generate a new list\n",
        "r = map(summa, a, b)\n",
        "print(r, type(r))\n",
        "print(list(r))"
      ],
      "execution_count": 21,
      "outputs": [
        {
          "output_type": "stream",
          "name": "stdout",
          "text": [
            "<map object at 0x7f2d4e98b4d0> <class 'map'>\n",
            "[2, 11, 14, 18, 16]\n"
          ]
        }
      ]
    },
    {
      "cell_type": "code",
      "metadata": {
        "id": "pc6LxQQFKdM2",
        "colab": {
          "base_uri": "https://localhost:8080/"
        },
        "outputId": "3c80401d-f37d-432d-c8a9-ad69d671cc4b"
      },
      "source": [
        "# map could be used with Lambda as follows\n",
        "# lambda function is an anonymous function that take any number of arguments and can only have one expression\n",
        "input_list = [1, 2, 3, 4]\n",
        "\n",
        "output_list = list(map(lambda x: x**2, input_list))\n",
        "print(output_list)"
      ],
      "execution_count": 22,
      "outputs": [
        {
          "output_type": "stream",
          "name": "stdout",
          "text": [
            "[1, 4, 9, 16]\n"
          ]
        }
      ]
    },
    {
      "cell_type": "code",
      "source": [
        "a = [1, 4, 5, 6, 9]\n",
        "b = [1, 7, 9, 12, 7]\n",
        "\n",
        "output_list = list(map(lambda x, y: x+y, a, b))\n",
        "print(output_list)"
      ],
      "metadata": {
        "colab": {
          "base_uri": "https://localhost:8080/"
        },
        "id": "ruiHfyOm5GJ7",
        "outputId": "024ca1c7-02f6-4e10-d909-723685754c31"
      },
      "execution_count": 23,
      "outputs": [
        {
          "output_type": "stream",
          "name": "stdout",
          "text": [
            "[2, 11, 14, 18, 16]\n"
          ]
        }
      ]
    },
    {
      "cell_type": "markdown",
      "metadata": {
        "id": "Dj4Wcbr1gLo8"
      },
      "source": [
        "**MINI CHALLENGE #4:**\n",
        "- **Write a function that takes an argument and return its cubic value**\n",
        "- **Define a list of integers ranging from -10 to 10** \n",
        "- **Apply the function to the entire list and generate a new output list** \n"
      ]
    },
    {
      "cell_type": "code",
      "metadata": {
        "id": "pqXiuFVxvU18",
        "colab": {
          "base_uri": "https://localhost:8080/"
        },
        "outputId": "9354a7ba-b990-46db-9afe-3a1cf77dee4a"
      },
      "source": [
        "input_list = range(-10, 10)\n",
        "output_list = list(map(lambda x: x**3, input_list))\n",
        "\n",
        "print(output_list)"
      ],
      "execution_count": 24,
      "outputs": [
        {
          "output_type": "stream",
          "name": "stdout",
          "text": [
            "[-1000, -729, -512, -343, -216, -125, -64, -27, -8, -1, 0, 1, 8, 27, 64, 125, 216, 343, 512, 729]\n"
          ]
        }
      ]
    },
    {
      "cell_type": "markdown",
      "metadata": {
        "id": "BtAxpyeGKGA1"
      },
      "source": [
        "# 5. FILTER\n"
      ]
    },
    {
      "cell_type": "code",
      "metadata": {
        "id": "D5LVa00JKdz0",
        "colab": {
          "base_uri": "https://localhost:8080/"
        },
        "outputId": "07b66348-557c-4408-82af-75df696de69b"
      },
      "source": [
        "# filter is used to create a list of elements for which a function returns \"True\".\n",
        "prices = [105, 5055, 40, 356, 923, 1443, 222, 62]\n",
        "\n",
        "# return only even numbers\n",
        "output_data = filter(lambda x: x%2 == 0, prices)\n",
        "print(output_data, type(output_data))\n",
        "print(list(output_data))"
      ],
      "execution_count": 25,
      "outputs": [
        {
          "output_type": "stream",
          "name": "stdout",
          "text": [
            "<filter object at 0x7f2d4e9a6810> <class 'filter'>\n",
            "[40, 356, 222, 62]\n"
          ]
        }
      ]
    },
    {
      "cell_type": "code",
      "metadata": {
        "id": "shory4UpKd2Y",
        "colab": {
          "base_uri": "https://localhost:8080/"
        },
        "outputId": "5a77f082-c45c-46c5-ac2a-9ac2188d1718"
      },
      "source": [
        "# Return prices that are greater than or equal 100\n",
        "list(filter(lambda x: x > 100, prices))"
      ],
      "execution_count": 26,
      "outputs": [
        {
          "output_type": "execute_result",
          "data": {
            "text/plain": [
              "[105, 5055, 356, 923, 1443, 222]"
            ]
          },
          "metadata": {},
          "execution_count": 26
        }
      ]
    },
    {
      "cell_type": "code",
      "metadata": {
        "id": "uQi17-h_hlSf",
        "colab": {
          "base_uri": "https://localhost:8080/"
        },
        "outputId": "daf5105f-4e6f-44ef-ff10-ef7518ee57ba"
      },
      "source": [
        "# Return age between 200 and 250\n",
        "list(filter(lambda x: 200 <= x <= 250, prices))"
      ],
      "execution_count": 27,
      "outputs": [
        {
          "output_type": "execute_result",
          "data": {
            "text/plain": [
              "[222]"
            ]
          },
          "metadata": {},
          "execution_count": 27
        }
      ]
    },
    {
      "cell_type": "markdown",
      "metadata": {
        "id": "JZIiCmyvh7EW"
      },
      "source": [
        "**MINI CHALLENGE #5:**\n",
        "- **Write a code from the user that takes in a range (upper and lower bounds) and returns a list of positive and even numbers only** \n"
      ]
    },
    {
      "cell_type": "code",
      "metadata": {
        "id": "4JDq7Y04ve0S",
        "colab": {
          "base_uri": "https://localhost:8080/"
        },
        "outputId": "365b6fe4-9ae6-495d-9c6b-baff25373300"
      },
      "source": [
        "while True:\n",
        "  try:\n",
        "    bounds = [int(x) for x in input('Enter the bounds (lower upper) of the range, separated by one space: ').split()]\n",
        "    bounds[1] += 1\n",
        "    if sorted(bounds) != bounds:\n",
        "      raise Exception('Sorry, you need to input the lower value first!...')\n",
        "  except Exception as e:\n",
        "    print(e)\n",
        "    continue\n",
        "\n",
        "  input_list = range(*bounds)\n",
        "  output_list = list(filter(lambda x: x>0 and x%2==0, range(*bounds)))\n",
        "  print(f'''\n",
        "  Input list: {list(input_list)}\n",
        "  Positive and even numbers: {output_list}\n",
        "  ''')\n",
        "  break"
      ],
      "execution_count": 28,
      "outputs": [
        {
          "output_type": "stream",
          "name": "stdout",
          "text": [
            "Enter the bounds (lower upper) of the range, separated by one space: hello\n",
            "invalid literal for int() with base 10: 'hello'\n",
            "Enter the bounds (lower upper) of the range, separated by one space: 12, 20\n",
            "invalid literal for int() with base 10: '12,'\n",
            "Enter the bounds (lower upper) of the range, separated by one space: 10 -10\n",
            "Sorry, you need to input the lower value first!...\n",
            "Enter the bounds (lower upper) of the range, separated by one space: -10 26\n",
            "\n",
            "  Input list: [-10, -9, -8, -7, -6, -5, -4, -3, -2, -1, 0, 1, 2, 3, 4, 5, 6, 7, 8, 9, 10, 11, 12, 13, 14, 15, 16, 17, 18, 19, 20, 21, 22, 23, 24, 25, 26]\n",
            "  Positive and even numbers: [2, 4, 6, 8, 10, 12, 14, 16, 18, 20, 22, 24, 26]\n",
            "  \n"
          ]
        }
      ]
    },
    {
      "cell_type": "markdown",
      "metadata": {
        "id": "BTLG7E2YeYIu"
      },
      "source": [
        "# MINI CHALLENGE SOLUTIONS"
      ]
    },
    {
      "cell_type": "markdown",
      "metadata": {
        "id": "Sr6wSsDGecLe"
      },
      "source": [
        "**MINI CHALLENGE #1 SOLUTION:**\n",
        "- **Write a code that takes in 2 lists x = [-1 -4 -7] and y = [-3 7 4] and  calculates the absolute sum of all its elements |x+y|**"
      ]
    },
    {
      "cell_type": "code",
      "metadata": {
        "id": "Ytdw0BKxKFRx",
        "colab": {
          "base_uri": "https://localhost:8080/"
        },
        "outputId": "d287c382-97b8-48bf-9aef-40e3f3df8d04"
      },
      "source": [
        "x = [-1, -4, -7]\n",
        "y = [-3, 7, 4]\n",
        "z = abs(sum(x+y))\n",
        "z"
      ],
      "execution_count": 29,
      "outputs": [
        {
          "output_type": "execute_result",
          "data": {
            "text/plain": [
              "4"
            ]
          },
          "metadata": {},
          "execution_count": 29
        }
      ]
    },
    {
      "cell_type": "markdown",
      "metadata": {
        "id": "YAh_RlMreu3V"
      },
      "source": [
        "**MINI CHALLENGE #2: SOLUTION** \n",
        "- **Write a code that takes in two inputs (number of units and prices) from the user and calculate the total account balance**"
      ]
    },
    {
      "cell_type": "code",
      "metadata": {
        "id": "7zwqjcIresGA"
      },
      "source": [
        "def total(units, price):\n",
        "    amount = units * price\n",
        "    return(amount)"
      ],
      "execution_count": 30,
      "outputs": []
    },
    {
      "cell_type": "code",
      "metadata": {
        "id": "MjKWBisLet6b",
        "colab": {
          "base_uri": "https://localhost:8080/"
        },
        "outputId": "a0ebee89-fb85-49a5-d235-76d1c8137e5b"
      },
      "source": [
        "num_shares = int(input(\"Enter the number of shares: \"))\n",
        "price = int(input(\"Enter the price per share: \"))\n",
        "account_balance = total(num_shares, price)\n",
        "\n",
        "print('Total account balance = {}'.format(account_balance))"
      ],
      "execution_count": 31,
      "outputs": [
        {
          "output_type": "stream",
          "name": "stdout",
          "text": [
            "Enter the number of shares: 80\n",
            "Enter the price per share: 120\n",
            "Total account balance = 9600\n"
          ]
        }
      ]
    },
    {
      "cell_type": "markdown",
      "metadata": {
        "id": "fCXG1j3qfipT"
      },
      "source": [
        "**MINI CHALLENGE #3 SOLUTION**\n",
        "- **Repeat mini challenge #2 (Write a code that takes in two inputs from the user and calculates the total) using lambda expressions instead**"
      ]
    },
    {
      "cell_type": "code",
      "metadata": {
        "id": "oYBrDfsTe-pI",
        "colab": {
          "base_uri": "https://localhost:8080/"
        },
        "outputId": "d5e6da5f-7656-4fd0-e7c2-205674f2c532"
      },
      "source": [
        "num_shares = int(input(\"Enter the number of shares: \"))\n",
        "price = int(input(\"Enter the price per share: \"))\n",
        "\n",
        "account_balance = lambda num_shares, price : num_shares * price\n",
        "print('Total = {}'.format(account_balance(num_shares, price)))\n"
      ],
      "execution_count": 32,
      "outputs": [
        {
          "output_type": "stream",
          "name": "stdout",
          "text": [
            "Enter the number of shares: 80\n",
            "Enter the price per share: 120\n",
            "Total = 9600\n"
          ]
        }
      ]
    },
    {
      "cell_type": "markdown",
      "metadata": {
        "id": "sAkiC9hYhHgX"
      },
      "source": [
        "**MINI CHALLENGE #4 SOLUTION:**\n",
        "- **Write a function that takes an argument and return its cubic value**\n",
        "- **Define a list of integers ranging from -10 to 10** \n",
        "- **Apply the function to the entire list and generate a new output list** "
      ]
    },
    {
      "cell_type": "code",
      "metadata": {
        "id": "hw2O6o4XhDLN",
        "colab": {
          "base_uri": "https://localhost:8080/"
        },
        "outputId": "f7454edc-744d-4403-fbf9-3924ba238ce2"
      },
      "source": [
        "def cubic(x):\n",
        "    return (x*x*x)\n",
        "\n",
        "numbers = range(-10, 11)\n",
        "numbers_cubed = list(map(lambda x: cubic(x), numbers))\n",
        "print(list(numbers))\n",
        "print(numbers_cubed)"
      ],
      "execution_count": 33,
      "outputs": [
        {
          "output_type": "stream",
          "name": "stdout",
          "text": [
            "[-10, -9, -8, -7, -6, -5, -4, -3, -2, -1, 0, 1, 2, 3, 4, 5, 6, 7, 8, 9, 10]\n",
            "[-1000, -729, -512, -343, -216, -125, -64, -27, -8, -1, 0, 1, 8, 27, 64, 125, 216, 343, 512, 729, 1000]\n"
          ]
        }
      ]
    },
    {
      "cell_type": "markdown",
      "metadata": {
        "id": "WafFpX3zifYK"
      },
      "source": [
        "**MINI CHALLENGE #5 SOLUTION:**\n",
        "- **Write a code from the user that takes in a range (upper and lower bounds) and returns a list of positive and even numbers only** \n"
      ]
    },
    {
      "cell_type": "code",
      "metadata": {
        "id": "jbTis2cBib1x",
        "colab": {
          "base_uri": "https://localhost:8080/"
        },
        "outputId": "9d6e967d-6a1d-4dae-fefe-c56ec8f6aef3"
      },
      "source": [
        "min = int(input(\"Enter a number (lower bound) *must be negative* : \"))\n",
        "max = int(input(\"Enter a number (Upper bound:) \"))\n",
        "\n",
        "numbers = range(min, max)\n",
        "even_greater_than_zero = list(filter(lambda x: (x > 0 and x%2 == 0), numbers))\n",
        "print(even_greater_than_zero)\n"
      ],
      "execution_count": 34,
      "outputs": [
        {
          "output_type": "stream",
          "name": "stdout",
          "text": [
            "Enter a number (lower bound) *must be negative* : -5\n",
            "Enter a number (Upper bound:) 22\n",
            "[2, 4, 6, 8, 10, 12, 14, 16, 18, 20]\n"
          ]
        }
      ]
    }
  ]
}