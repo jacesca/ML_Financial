{
  "nbformat": 4,
  "nbformat_minor": 0,
  "metadata": {
    "colab": {
      "provenance": [],
      "collapsed_sections": []
    },
    "kernelspec": {
      "name": "python3",
      "display_name": "Python 3"
    }
  },
  "cells": [
    {
      "cell_type": "code",
      "source": [
        "#Environment preparation\n",
        "import sys\n",
        "!pip install expectexception"
      ],
      "metadata": {
        "colab": {
          "base_uri": "https://localhost:8080/"
        },
        "id": "sYKpVWsLQDCl",
        "outputId": "6806214d-7b8c-45a4-82c9-0e798c1e875c"
      },
      "execution_count": 1,
      "outputs": [
        {
          "output_type": "stream",
          "name": "stdout",
          "text": [
            "Looking in indexes: https://pypi.org/simple, https://us-python.pkg.dev/colab-wheels/public/simple/\n",
            "Requirement already satisfied: expectexception in /usr/local/lib/python3.7/dist-packages (0.1.1)\n"
          ]
        }
      ]
    },
    {
      "cell_type": "code",
      "source": [
        "# Preparing environment\n",
        "import expectexception\n",
        "\n",
        "# %%expect_exception TypeError"
      ],
      "metadata": {
        "id": "8veoWU2fQDKA"
      },
      "execution_count": 2,
      "outputs": []
    },
    {
      "cell_type": "markdown",
      "metadata": {
        "id": "BK5uIrxoLRtf"
      },
      "source": [
        "# 1. FOR LOOPS"
      ]
    },
    {
      "cell_type": "code",
      "metadata": {
        "id": "IeM5ykmzHuYB",
        "colab": {
          "base_uri": "https://localhost:8080/"
        },
        "outputId": "5deed4dc-eb69-40b5-e1a5-3e4fbce3145e"
      },
      "source": [
        "# For loops are used for iterating over a sequence (a list, a tuple, a dictionary, a set, or a string).\n",
        "# An action can be executed once for each item in a list, tuple of the for loop.\n",
        "my_list = [1, 2, 3]\n",
        "my_list"
      ],
      "execution_count": 3,
      "outputs": [
        {
          "output_type": "execute_result",
          "data": {
            "text/plain": [
              "[1, 2, 3]"
            ]
          },
          "metadata": {},
          "execution_count": 3
        }
      ]
    },
    {
      "cell_type": "code",
      "metadata": {
        "id": "R0jpLRvsJ4Yf",
        "colab": {
          "base_uri": "https://localhost:8080/"
        },
        "outputId": "8c6423ee-4aae-4e0c-9ef1-f1739146084b"
      },
      "source": [
        "for i in my_list:\n",
        "    print(i)"
      ],
      "execution_count": 4,
      "outputs": [
        {
          "output_type": "stream",
          "name": "stdout",
          "text": [
            "1\n",
            "2\n",
            "3\n"
          ]
        }
      ]
    },
    {
      "cell_type": "code",
      "metadata": {
        "id": "a5dXYSWBJ5Ze",
        "colab": {
          "base_uri": "https://localhost:8080/"
        },
        "outputId": "f494cedb-653a-4189-f04d-620647d0b5da"
      },
      "source": [
        "# you can do more than one task for every loop such as printing out 'Hello world' \n",
        "for i in my_list:\n",
        "    print(i)\n",
        "    print('Hello!')"
      ],
      "execution_count": 5,
      "outputs": [
        {
          "output_type": "stream",
          "name": "stdout",
          "text": [
            "1\n",
            "Hello!\n",
            "2\n",
            "Hello!\n",
            "3\n",
            "Hello!\n"
          ]
        }
      ]
    },
    {
      "cell_type": "code",
      "metadata": {
        "id": "q76leWB9J5bx"
      },
      "source": [
        "# List of strings\n",
        "my_list = ['AAPL', 'GOOG', 'T', 'TSLA', 'SP500']"
      ],
      "execution_count": 6,
      "outputs": []
    },
    {
      "cell_type": "code",
      "metadata": {
        "id": "DD9E3VLPJ5fo",
        "colab": {
          "base_uri": "https://localhost:8080/"
        },
        "outputId": "f8dceb21-1c2d-42e6-8114-432f02d44333"
      },
      "source": [
        "[i for i in my_list]"
      ],
      "execution_count": 7,
      "outputs": [
        {
          "output_type": "execute_result",
          "data": {
            "text/plain": [
              "['AAPL', 'GOOG', 'T', 'TSLA', 'SP500']"
            ]
          },
          "metadata": {},
          "execution_count": 7
        }
      ]
    },
    {
      "cell_type": "code",
      "metadata": {
        "id": "2QI7iU17J5j_",
        "colab": {
          "base_uri": "https://localhost:8080/"
        },
        "outputId": "68dc0776-a261-49c5-9bcd-3e6cf5f408e0"
      },
      "source": [
        "# you can loop over a string as follows\n",
        "print([i for i in 'TSLA'])\n",
        "print([i for i in my_list[3]])"
      ],
      "execution_count": 8,
      "outputs": [
        {
          "output_type": "stream",
          "name": "stdout",
          "text": [
            "['T', 'S', 'L', 'A']\n",
            "['T', 'S', 'L', 'A']\n"
          ]
        }
      ]
    },
    {
      "cell_type": "markdown",
      "metadata": {
        "id": "VHeLtXS0Z5XU"
      },
      "source": [
        "**MINI CHALLENGE #1:**\n",
        "- **Write a code that takes in a string and prints it out on the screen except for any letter 'T'. You can replace the letter 'T' with '*'.**"
      ]
    },
    {
      "cell_type": "code",
      "metadata": {
        "id": "b_NU7mBfa-SB",
        "colab": {
          "base_uri": "https://localhost:8080/",
          "height": 53
        },
        "outputId": "1ce2a7f8-b35c-4f38-89b7-0160b5ab8dd4"
      },
      "source": [
        "s = input('Provide an string: ')\n",
        "s.upper().replace('T', '*')"
      ],
      "execution_count": 9,
      "outputs": [
        {
          "name": "stdout",
          "output_type": "stream",
          "text": [
            "Provide an string: Temporary\n"
          ]
        },
        {
          "output_type": "execute_result",
          "data": {
            "text/plain": [
              "'*EMPORARY'"
            ],
            "application/vnd.google.colaboratory.intrinsic+json": {
              "type": "string"
            }
          },
          "metadata": {},
          "execution_count": 9
        }
      ]
    },
    {
      "cell_type": "markdown",
      "metadata": {
        "id": "5ShxNDJeLVVo"
      },
      "source": [
        "# 2. RANGE"
      ]
    },
    {
      "cell_type": "code",
      "metadata": {
        "id": "fsH8H4IwJ5mi",
        "colab": {
          "base_uri": "https://localhost:8080/"
        },
        "outputId": "cd2682b9-949a-4088-bc91-894418725025"
      },
      "source": [
        "# Range() generates a list of numbers, which is used to iterate over with for loops.\n",
        "# range() is 0-index based, meaning list indexes start at 0, not 1. \n",
        "# The last integer generated by range() is up to, but not including, last element. \n",
        "# Example: range(0, 10) generates integers from 0 up to, but not including, 10.\n",
        "my_range = range(10)\n",
        "my_range"
      ],
      "execution_count": 10,
      "outputs": [
        {
          "output_type": "execute_result",
          "data": {
            "text/plain": [
              "range(0, 10)"
            ]
          },
          "metadata": {},
          "execution_count": 10
        }
      ]
    },
    {
      "cell_type": "code",
      "metadata": {
        "id": "LfnqYODNJ5qq",
        "colab": {
          "base_uri": "https://localhost:8080/"
        },
        "outputId": "cdb52c86-64b7-4440-9d21-5a5b4df0cf33"
      },
      "source": [
        "[i for i in my_range]"
      ],
      "execution_count": 11,
      "outputs": [
        {
          "output_type": "execute_result",
          "data": {
            "text/plain": [
              "[0, 1, 2, 3, 4, 5, 6, 7, 8, 9]"
            ]
          },
          "metadata": {},
          "execution_count": 11
        }
      ]
    },
    {
      "cell_type": "code",
      "metadata": {
        "id": "b4XBIA2KJ5pT",
        "colab": {
          "base_uri": "https://localhost:8080/"
        },
        "outputId": "a708329f-c8a3-4c59-b8a3-40dad75d2bc5"
      },
      "source": [
        "# Range of numbers from 1 to 20 with steps of 2\n",
        "[i for i in range(1, 20, 2)]"
      ],
      "execution_count": 12,
      "outputs": [
        {
          "output_type": "execute_result",
          "data": {
            "text/plain": [
              "[1, 3, 5, 7, 9, 11, 13, 15, 17, 19]"
            ]
          },
          "metadata": {},
          "execution_count": 12
        }
      ]
    },
    {
      "cell_type": "code",
      "metadata": {
        "id": "dOpRLPUNJ5iO",
        "colab": {
          "base_uri": "https://localhost:8080/"
        },
        "outputId": "5cd7d2b4-6485-47a7-eb45-5a91915864e7"
      },
      "source": [
        "[i for i in reversed(range(5))]"
      ],
      "execution_count": 13,
      "outputs": [
        {
          "output_type": "execute_result",
          "data": {
            "text/plain": [
              "[4, 3, 2, 1, 0]"
            ]
          },
          "metadata": {},
          "execution_count": 13
        }
      ]
    },
    {
      "cell_type": "markdown",
      "metadata": {
        "id": "eRgAw_bLbNBj"
      },
      "source": [
        "**MINI CHALLENGE #2:**\n",
        "- **Write a code that takes in the maximum and minimum limits from the user and prints out even numbers only between the provided range**"
      ]
    },
    {
      "cell_type": "code",
      "metadata": {
        "id": "TzPMQq-obcAI",
        "colab": {
          "base_uri": "https://localhost:8080/"
        },
        "outputId": "88597888-7ffe-4509-bdac-5f3649e52220"
      },
      "source": [
        "try:\n",
        "  lim_max = int(input('Max limit: '))\n",
        "  lim_min = int(input('Min limit: '))\n",
        "  if lim_max <= lim_min:\n",
        "    print('Limits not valid')\n",
        "  else:\n",
        "    print(list(range(lim_min + (lim_min%2), lim_max+1, 2)))\n",
        "except Exception as e:\n",
        "  print(e) "
      ],
      "execution_count": 14,
      "outputs": [
        {
          "output_type": "stream",
          "name": "stdout",
          "text": [
            "Max limit: 22\n",
            "Min limit: 10\n",
            "[10, 12, 14, 16, 18, 20, 22]\n"
          ]
        }
      ]
    },
    {
      "cell_type": "markdown",
      "metadata": {
        "id": "KoBeo2-NW-IG"
      },
      "source": [
        "**MINI CHALLENGE #3:**\n",
        "- **Write a code that generates the following table:**\n",
        "```\n",
        "1   1    1\n",
        "2   4    8\n",
        "3   9   27\n",
        "4  16   64\n",
        "5  25  125\n",
        "6  36  216\n",
        "7  49  343\n",
        "8  64  512\n",
        "9  81  729\n",
        "10 100 1000\n",
        "```\n",
        "\n",
        "\n"
      ]
    },
    {
      "cell_type": "code",
      "source": [
        "[[i, i**2, i**3] for i in range(1, 11)]"
      ],
      "metadata": {
        "colab": {
          "base_uri": "https://localhost:8080/"
        },
        "id": "QhFsamrQUsF5",
        "outputId": "c1d165c8-9ae6-4fd5-867a-c716159a4284"
      },
      "execution_count": 15,
      "outputs": [
        {
          "output_type": "execute_result",
          "data": {
            "text/plain": [
              "[[1, 1, 1],\n",
              " [2, 4, 8],\n",
              " [3, 9, 27],\n",
              " [4, 16, 64],\n",
              " [5, 25, 125],\n",
              " [6, 36, 216],\n",
              " [7, 49, 343],\n",
              " [8, 64, 512],\n",
              " [9, 81, 729],\n",
              " [10, 100, 1000]]"
            ]
          },
          "metadata": {},
          "execution_count": 15
        }
      ]
    },
    {
      "cell_type": "markdown",
      "metadata": {
        "id": "7xt72C8NNgN8"
      },
      "source": [
        "# 3. WHILE LOOPS"
      ]
    },
    {
      "cell_type": "code",
      "metadata": {
        "id": "G1Du3nteNlfR",
        "colab": {
          "base_uri": "https://localhost:8080/"
        },
        "outputId": "5b3b45d6-32e7-4078-d7c9-4598b741418e"
      },
      "source": [
        "# While loop can be used to execute a set of statements as long as a certain condition holds true.\n",
        "i = 0\n",
        "\n",
        "while i <=15:\n",
        "    print(i)\n",
        "    i = i + 1"
      ],
      "execution_count": 16,
      "outputs": [
        {
          "output_type": "stream",
          "name": "stdout",
          "text": [
            "0\n",
            "1\n",
            "2\n",
            "3\n",
            "4\n",
            "5\n",
            "6\n",
            "7\n",
            "8\n",
            "9\n",
            "10\n",
            "11\n",
            "12\n",
            "13\n",
            "14\n",
            "15\n"
          ]
        }
      ]
    },
    {
      "cell_type": "markdown",
      "metadata": {
        "id": "lB2soXiSUWDd"
      },
      "source": [
        "**MINI CHALLENGE #4:**\n",
        "- **Write a code that displays numbers from 1 to 30 using for and while loops**\n"
      ]
    },
    {
      "cell_type": "code",
      "metadata": {
        "id": "RY_3xRVRXWuL",
        "colab": {
          "base_uri": "https://localhost:8080/"
        },
        "outputId": "e917cc32-be5d-4237-d9fa-e0bba14ba98b"
      },
      "source": [
        "limit = 30\n",
        "print([i for i in range(1,limit+1)])\n",
        "\n",
        "my_list, i = [], 1\n",
        "while i<=limit:\n",
        "  my_list.append(i)\n",
        "  i += 1\n",
        "print(my_list)"
      ],
      "execution_count": 17,
      "outputs": [
        {
          "output_type": "stream",
          "name": "stdout",
          "text": [
            "[1, 2, 3, 4, 5, 6, 7, 8, 9, 10, 11, 12, 13, 14, 15, 16, 17, 18, 19, 20, 21, 22, 23, 24, 25, 26, 27, 28, 29, 30]\n",
            "[1, 2, 3, 4, 5, 6, 7, 8, 9, 10, 11, 12, 13, 14, 15, 16, 17, 18, 19, 20, 21, 22, 23, 24, 25, 26, 27, 28, 29, 30]\n"
          ]
        }
      ]
    },
    {
      "cell_type": "markdown",
      "metadata": {
        "id": "ZIueG9h3XXTC"
      },
      "source": [
        "**MINI CHALLENGE #5:**\n",
        "- **Create a rolling dice game that assume we have two dice (#1 and #2). The dice is being thrown and a random number is generated everytime. The game should be designed such that it prompts the user to ask if he/she would like to keep playing or exit the game.**"
      ]
    },
    {
      "cell_type": "code",
      "metadata": {
        "id": "e5lIJV7KnV9W",
        "colab": {
          "base_uri": "https://localhost:8080/"
        },
        "outputId": "ca512924-a2a3-4cca-9583-6ecfe908d8b9"
      },
      "source": [
        "from random import randint\n",
        "\n",
        "complete = 'Y'\n",
        "while complete == 'Y':\n",
        "  x = randint(1, 6)\n",
        "  y = randint(1, 6)\n",
        "  print(f'Dice 1 throw result: {x}')\n",
        "  print(f'Dice 2 throw result: {y}')\n",
        "\n",
        "  while True:\n",
        "    complete = input('Continue? (Y/N): ').upper()\n",
        "    if complete not in ['Y', 'N']:\n",
        "      print('Only Y or N are allowed. Try again!')\n",
        "    else:\n",
        "      break"
      ],
      "execution_count": 18,
      "outputs": [
        {
          "name": "stdout",
          "output_type": "stream",
          "text": [
            "Dice 1 throw result: 4\n",
            "Dice 2 throw result: 6\n",
            "Continue? (Y/N): g\n",
            "Only Y or N are allowed. Try again!\n",
            "Continue? (Y/N): y\n",
            "Dice 1 throw result: 3\n",
            "Dice 2 throw result: 6\n",
            "Continue? (Y/N): n\n"
          ]
        }
      ]
    },
    {
      "cell_type": "markdown",
      "metadata": {
        "id": "9wunXtl0M9sT"
      },
      "source": [
        "# 4. BREAK A LOOP"
      ]
    },
    {
      "cell_type": "code",
      "metadata": {
        "id": "Zl8mvmT3J5eY",
        "colab": {
          "base_uri": "https://localhost:8080/"
        },
        "outputId": "4775da7f-f661-4d53-bd57-829746ef2d57"
      },
      "source": [
        "# break() is used to exit a for loop or a while loop\n",
        "# continue() is used to skip the current block, and return to the \"for\" or \"while\" statement.\n",
        "my_list = [\"GOOG\", \"AAPL\", \"T\", \"TSLA\", \"SP500\"]\n",
        "my_list"
      ],
      "execution_count": 19,
      "outputs": [
        {
          "output_type": "execute_result",
          "data": {
            "text/plain": [
              "['GOOG', 'AAPL', 'T', 'TSLA', 'SP500']"
            ]
          },
          "metadata": {},
          "execution_count": 19
        }
      ]
    },
    {
      "cell_type": "code",
      "metadata": {
        "id": "JGerA93sNM4C",
        "colab": {
          "base_uri": "https://localhost:8080/"
        },
        "outputId": "b56182c4-f21b-4e26-e830-4bb35ffb6617"
      },
      "source": [
        "# print out all elements in the list\n",
        "for i in my_list:\n",
        "    print(i)"
      ],
      "execution_count": 20,
      "outputs": [
        {
          "output_type": "stream",
          "name": "stdout",
          "text": [
            "GOOG\n",
            "AAPL\n",
            "T\n",
            "TSLA\n",
            "SP500\n"
          ]
        }
      ]
    },
    {
      "cell_type": "code",
      "metadata": {
        "id": "7gsSn9R9NNBH",
        "colab": {
          "base_uri": "https://localhost:8080/"
        },
        "outputId": "3d8e941d-7207-46a7-cc8e-be0383417569"
      },
      "source": [
        "# print out all elements in the list up until the AT&T stock (Ticker Symbol = T) is detected\n",
        "for i in my_list:\n",
        "  print(i)\n",
        "  if i == 'T':\n",
        "    break  "
      ],
      "execution_count": 21,
      "outputs": [
        {
          "output_type": "stream",
          "name": "stdout",
          "text": [
            "GOOG\n",
            "AAPL\n",
            "T\n"
          ]
        }
      ]
    },
    {
      "cell_type": "code",
      "metadata": {
        "id": "Rja3f7RiNM_F",
        "colab": {
          "base_uri": "https://localhost:8080/"
        },
        "outputId": "72049063-673b-4441-d8e5-2a6dac047f08"
      },
      "source": [
        "# Print only odd elements and skip even numbers\n",
        "my_list = [1, 2, 3, 4, 5, 6, 7, 8, 9, 10]\n",
        "\n",
        "for i in my_list:\n",
        "    if i%2 == 0:\n",
        "        continue\n",
        "    print(i)"
      ],
      "execution_count": 22,
      "outputs": [
        {
          "output_type": "stream",
          "name": "stdout",
          "text": [
            "1\n",
            "3\n",
            "5\n",
            "7\n",
            "9\n"
          ]
        }
      ]
    },
    {
      "cell_type": "markdown",
      "metadata": {
        "id": "JF9CljMnYwEi"
      },
      "source": [
        "**MINI CHALLENGE #6:**\n",
        "- **Write a code that continiously gets data from the user and calculates the average and print out on the screen. The code exits when the user enters 'e'.**"
      ]
    },
    {
      "cell_type": "code",
      "metadata": {
        "id": "ynWaFl9LoIjw",
        "colab": {
          "base_uri": "https://localhost:8080/"
        },
        "outputId": "041c7878-2e5f-4d9b-991c-253c5f1a391c"
      },
      "source": [
        "import numpy as np\n",
        "\n",
        "n = []\n",
        "while True:\n",
        "  try:\n",
        "    x = input('Give a number (e to exit): ')\n",
        "    if x == 'e':\n",
        "      break\n",
        "    x = int(x)\n",
        "  except Exception as e:\n",
        "    print(e, '\\nTry again!...')\n",
        "    continue\n",
        "  n.append(x)\n",
        "  print('Average of {} is {}'.format(n, np.mean(n)))  "
      ],
      "execution_count": 23,
      "outputs": [
        {
          "name": "stdout",
          "output_type": "stream",
          "text": [
            "Give a number (e to exit): hello\n",
            "invalid literal for int() with base 10: 'hello' \n",
            "Try again!...\n",
            "Give a number (e to exit): 10\n",
            "Average of [10] is 10.0\n",
            "Give a number (e to exit): 22\n",
            "Average of [10, 22] is 16.0\n",
            "Give a number (e to exit): hello\n",
            "invalid literal for int() with base 10: 'hello' \n",
            "Try again!...\n",
            "Give a number (e to exit): 30\n",
            "Average of [10, 22, 30] is 20.666666666666668\n",
            "Give a number (e to exit): 30\n",
            "Average of [10, 22, 30, 30] is 23.0\n",
            "Give a number (e to exit): e\n"
          ]
        }
      ]
    },
    {
      "cell_type": "markdown",
      "metadata": {
        "id": "22kF_RupOG2o"
      },
      "source": [
        "# 5. NESTED LOOPS"
      ]
    },
    {
      "cell_type": "code",
      "metadata": {
        "id": "rL6xaGIbNM69",
        "colab": {
          "base_uri": "https://localhost:8080/"
        },
        "outputId": "adb7dc61-283f-4667-9341-178fb2daf804"
      },
      "source": [
        "# Nested loops are loops that exist inside the body of another loop\n",
        "for x in range(1, 4): # slow loop \n",
        "    for y in range(1, 11):   # fast loop\n",
        "        print('{} * {} = {}'.format(x, y, x*y))"
      ],
      "execution_count": 24,
      "outputs": [
        {
          "output_type": "stream",
          "name": "stdout",
          "text": [
            "1 * 1 = 1\n",
            "1 * 2 = 2\n",
            "1 * 3 = 3\n",
            "1 * 4 = 4\n",
            "1 * 5 = 5\n",
            "1 * 6 = 6\n",
            "1 * 7 = 7\n",
            "1 * 8 = 8\n",
            "1 * 9 = 9\n",
            "1 * 10 = 10\n",
            "2 * 1 = 2\n",
            "2 * 2 = 4\n",
            "2 * 3 = 6\n",
            "2 * 4 = 8\n",
            "2 * 5 = 10\n",
            "2 * 6 = 12\n",
            "2 * 7 = 14\n",
            "2 * 8 = 16\n",
            "2 * 9 = 18\n",
            "2 * 10 = 20\n",
            "3 * 1 = 3\n",
            "3 * 2 = 6\n",
            "3 * 3 = 9\n",
            "3 * 4 = 12\n",
            "3 * 5 = 15\n",
            "3 * 6 = 18\n",
            "3 * 7 = 21\n",
            "3 * 8 = 24\n",
            "3 * 9 = 27\n",
            "3 * 10 = 30\n"
          ]
        }
      ]
    },
    {
      "cell_type": "code",
      "metadata": {
        "id": "Xpe6MiCiNM2L",
        "colab": {
          "base_uri": "https://localhost:8080/"
        },
        "outputId": "afd151cf-4978-4840-87a6-d14ff18ce248"
      },
      "source": [
        "color_list = ['black', 'white', 'gold']\n",
        "phone_list = ['iphone', 'samsung', 'blackberry']\n",
        "for i in color_list:\n",
        "    for j in phone_list:\n",
        "        print(i, j)"
      ],
      "execution_count": 25,
      "outputs": [
        {
          "output_type": "stream",
          "name": "stdout",
          "text": [
            "black iphone\n",
            "black samsung\n",
            "black blackberry\n",
            "white iphone\n",
            "white samsung\n",
            "white blackberry\n",
            "gold iphone\n",
            "gold samsung\n",
            "gold blackberry\n"
          ]
        }
      ]
    },
    {
      "cell_type": "code",
      "source": [
        "[(i, j) for i in color_list for j in phone_list]"
      ],
      "metadata": {
        "colab": {
          "base_uri": "https://localhost:8080/"
        },
        "id": "8-T4Nz-HeRth",
        "outputId": "5b6efb95-05fd-4c43-e3f9-dc0c410c7043"
      },
      "execution_count": 26,
      "outputs": [
        {
          "output_type": "execute_result",
          "data": {
            "text/plain": [
              "[('black', 'iphone'),\n",
              " ('black', 'samsung'),\n",
              " ('black', 'blackberry'),\n",
              " ('white', 'iphone'),\n",
              " ('white', 'samsung'),\n",
              " ('white', 'blackberry'),\n",
              " ('gold', 'iphone'),\n",
              " ('gold', 'samsung'),\n",
              " ('gold', 'blackberry')]"
            ]
          },
          "metadata": {},
          "execution_count": 26
        }
      ]
    },
    {
      "cell_type": "markdown",
      "metadata": {
        "id": "r9D5aZhAfa-O"
      },
      "source": [
        "**MINI CHALLENGE #7:**\n",
        "- **Write a code that takes in a number (range between 1 and 9) from the user and print out the multiplication table up until that number.**"
      ]
    },
    {
      "cell_type": "code",
      "metadata": {
        "id": "LD-wO03co0QI",
        "colab": {
          "base_uri": "https://localhost:8080/"
        },
        "outputId": "648ac204-1ca3-4eb5-9bf3-c7d1a5e55b6b"
      },
      "source": [
        "from re import T\n",
        "while True:\n",
        "  try:\n",
        "    t = int(input('Enter a number between 1 and 9: '))\n",
        "    if t < 1 or t > 9:\n",
        "      raise Exception('Sorry, only numbers between 1 and 9 are allowed!')\n",
        "    break\n",
        "  except Exception as e:\n",
        "    print(e, '\\nTry again...')\n",
        "\n",
        "for x in range(1, t+1): # slow loop \n",
        "    print(f'Table {x}: ')\n",
        "    for y in range(1, 11):   # fast loop\n",
        "        print('\\t{} * {} = {}'.format(x, y, x*y))"
      ],
      "execution_count": 27,
      "outputs": [
        {
          "output_type": "stream",
          "name": "stdout",
          "text": [
            "Enter a number between 1 and 9: hello\n",
            "invalid literal for int() with base 10: 'hello' \n",
            "Try again...\n",
            "Enter a number between 1 and 9: 11\n",
            "Sorry, only numbers between 1 and 9 are allowed! \n",
            "Try again...\n",
            "Enter a number between 1 and 9: 2\n",
            "Table 1: \n",
            "\t1 * 1 = 1\n",
            "\t1 * 2 = 2\n",
            "\t1 * 3 = 3\n",
            "\t1 * 4 = 4\n",
            "\t1 * 5 = 5\n",
            "\t1 * 6 = 6\n",
            "\t1 * 7 = 7\n",
            "\t1 * 8 = 8\n",
            "\t1 * 9 = 9\n",
            "\t1 * 10 = 10\n",
            "Table 2: \n",
            "\t2 * 1 = 2\n",
            "\t2 * 2 = 4\n",
            "\t2 * 3 = 6\n",
            "\t2 * 4 = 8\n",
            "\t2 * 5 = 10\n",
            "\t2 * 6 = 12\n",
            "\t2 * 7 = 14\n",
            "\t2 * 8 = 16\n",
            "\t2 * 9 = 18\n",
            "\t2 * 10 = 20\n"
          ]
        }
      ]
    },
    {
      "cell_type": "markdown",
      "metadata": {
        "id": "2-WphsjVPDiZ"
      },
      "source": [
        "# 6. LIST COMPREHENSION"
      ]
    },
    {
      "cell_type": "code",
      "metadata": {
        "id": "qz9csDMHPNWA",
        "colab": {
          "base_uri": "https://localhost:8080/"
        },
        "outputId": "dab9ebad-bfb8-4119-d0fc-11056b5ec6b4"
      },
      "source": [
        "# List comprehension is an elegant tool to transform one list into another list. \n",
        "# Instead of using loops and append, list comprehension is used to iterate over a list, condition its elements and include them in a new list.\n",
        "# Let's take a look at the traditional way of taking a list and squaring its elements\n",
        "input_list = [1, 2, 3, 4]\n",
        "output_list = []\n",
        "\n",
        "for element in input_list:\n",
        "  output_list.append(element **2)\n",
        "\n",
        "print(output_list)"
      ],
      "execution_count": 28,
      "outputs": [
        {
          "output_type": "stream",
          "name": "stdout",
          "text": [
            "[1, 4, 9, 16]\n"
          ]
        }
      ]
    },
    {
      "cell_type": "code",
      "metadata": {
        "id": "vw-8Z7adPdTP",
        "colab": {
          "base_uri": "https://localhost:8080/"
        },
        "outputId": "5cfe87f5-f9ff-48c8-8729-cbf9fa401c38"
      },
      "source": [
        "# List comprehension is a super powerful one line of code!\n",
        "[element**2 for element in input_list]"
      ],
      "execution_count": 29,
      "outputs": [
        {
          "output_type": "execute_result",
          "data": {
            "text/plain": [
              "[1, 4, 9, 16]"
            ]
          },
          "metadata": {},
          "execution_count": 29
        }
      ]
    },
    {
      "cell_type": "code",
      "metadata": {
        "id": "az-FlBJsPwRh",
        "colab": {
          "base_uri": "https://localhost:8080/"
        },
        "outputId": "4a26d763-51cf-48d8-f5d5-19f36f71138d"
      },
      "source": [
        "# Let's square even numbers only \n",
        "# We need to insert a condition \n",
        "input_list = [1, 2, 3, 4]\n",
        "output_list = []\n",
        "\n",
        "for element in input_list:\n",
        "  if element%2 == 0:\n",
        "    output_list.append(element**2)\n",
        "\n",
        "print(output_list)"
      ],
      "execution_count": 30,
      "outputs": [
        {
          "output_type": "stream",
          "name": "stdout",
          "text": [
            "[4, 16]\n"
          ]
        }
      ]
    },
    {
      "cell_type": "code",
      "metadata": {
        "id": "zaREccpfP47m",
        "colab": {
          "base_uri": "https://localhost:8080/"
        },
        "outputId": "5b53eab8-2bc9-4060-b550-cfd2f122738d"
      },
      "source": [
        "# All this could be done with one line of code as well using List Comprehension\n",
        "[element**2 for element in input_list if element%2 == 0]"
      ],
      "execution_count": 31,
      "outputs": [
        {
          "output_type": "execute_result",
          "data": {
            "text/plain": [
              "[4, 16]"
            ]
          },
          "metadata": {},
          "execution_count": 31
        }
      ]
    },
    {
      "cell_type": "markdown",
      "metadata": {
        "id": "lIBSXypYX_3O"
      },
      "source": [
        "**MINI CHALLENGE #8:**\n",
        "- **Write a code that takes in a list of prices of a stock for the past 7 days and then normalize the prices** "
      ]
    },
    {
      "cell_type": "code",
      "metadata": {
        "id": "02iEvxCQQyZ7",
        "colab": {
          "base_uri": "https://localhost:8080/"
        },
        "outputId": "c3499d21-b33f-46f9-ebb0-5e1e24432639"
      },
      "source": [
        "from logging import exception\n",
        "while True:\n",
        "  try:\n",
        "    print('Enter a list of past 7-days prices separated by a space: ')\n",
        "    prices = [int(x) for x in input().split()]\n",
        "    if len(prices) != 7:\n",
        "      raise Exception('Sorry, you need to provide a list of prices for the past 7 days!')\n",
        "    break\n",
        "  except Exception as e:\n",
        "    print(e, '\\nTry again!...')"
      ],
      "execution_count": 32,
      "outputs": [
        {
          "name": "stdout",
          "output_type": "stream",
          "text": [
            "Enter a list of past 7-days prices separated by a space: \n",
            "hello\n",
            "invalid literal for int() with base 10: 'hello' \n",
            "Try again!...\n",
            "Enter a list of past 7-days prices separated by a space: \n",
            "150, 160\n",
            "invalid literal for int() with base 10: '150,' \n",
            "Try again!...\n",
            "Enter a list of past 7-days prices separated by a space: \n",
            "150 160\n",
            "Sorry, you need to provide a list of prices for the past 7 days! \n",
            "Try again!...\n",
            "Enter a list of past 7-days prices separated by a space: \n",
            "150 160 180 170 190 140 150\n"
          ]
        }
      ]
    },
    {
      "cell_type": "code",
      "source": [
        "normalized_prices = [x/prices[0] for x in prices]\n",
        "print(f\"\"\"\n",
        "Orginal Prices   : {prices}\n",
        "Normalized Prices: {normalized_prices}\n",
        "\"\"\")"
      ],
      "metadata": {
        "colab": {
          "base_uri": "https://localhost:8080/"
        },
        "id": "A7CGYMq-jWOg",
        "outputId": "2f83e256-ed5e-42ef-b742-48f48d24519c"
      },
      "execution_count": 33,
      "outputs": [
        {
          "output_type": "stream",
          "name": "stdout",
          "text": [
            "\n",
            "Orginal Prices   : [150, 160, 180, 170, 190, 140, 150]\n",
            "Normalized Prices: [1.0, 1.0666666666666667, 1.2, 1.1333333333333333, 1.2666666666666666, 0.9333333333333333, 1.0]\n",
            "\n"
          ]
        }
      ]
    },
    {
      "cell_type": "markdown",
      "metadata": {
        "id": "aXkGeaUza3d0"
      },
      "source": [
        "# MINI CHALLENGE SOLUTION"
      ]
    },
    {
      "cell_type": "markdown",
      "metadata": {
        "id": "Pc-Wifl4a_hA"
      },
      "source": [
        "**MINI CHALLENGE #1:**\n",
        "- **Write a code that takes in a string and prints it out on the screen except for any letter 'T'. You can replace the letter 'T' with '*'.**"
      ]
    },
    {
      "cell_type": "code",
      "metadata": {
        "id": "ZVy77WA2a5QC",
        "colab": {
          "base_uri": "https://localhost:8080/"
        },
        "outputId": "e87a7bf8-08fa-47d5-85bd-79f1a6963bfb"
      },
      "source": [
        "for letter in 'TSLA':\n",
        "  if letter == 'T':\n",
        "    print('*')\n",
        "  else:\n",
        "   print(letter)"
      ],
      "execution_count": 34,
      "outputs": [
        {
          "output_type": "stream",
          "name": "stdout",
          "text": [
            "*\n",
            "S\n",
            "L\n",
            "A\n"
          ]
        }
      ]
    },
    {
      "cell_type": "markdown",
      "metadata": {
        "id": "9OSRnPn0bf-u"
      },
      "source": [
        "**MINI CHALLENGE #2 SOLUTION:**\n",
        "- **Write a code that takes in the maximum and minimum limits from the user and prints out even numbers only between the provided range**"
      ]
    },
    {
      "cell_type": "code",
      "metadata": {
        "id": "jqQpkqe-bgaW",
        "colab": {
          "base_uri": "https://localhost:8080/"
        },
        "outputId": "df1314d1-468d-41f3-f980-c986e379bed5"
      },
      "source": [
        "min = int(input(\"Enter the price (lower bound: \"))\n",
        "max = int(input(\"Enter the price (Upper bound: \"))\n",
        "\n",
        "for i in range(min, max):\n",
        "    if i%2 == 0: \n",
        "        print(i)"
      ],
      "execution_count": 35,
      "outputs": [
        {
          "output_type": "stream",
          "name": "stdout",
          "text": [
            "Enter the price (lower bound: 10\n",
            "Enter the price (Upper bound: 22\n",
            "10\n",
            "12\n",
            "14\n",
            "16\n",
            "18\n",
            "20\n"
          ]
        }
      ]
    },
    {
      "cell_type": "markdown",
      "metadata": {
        "id": "L6-jK2s0bwXc"
      },
      "source": [
        "**MINI CHALLENGE #3 SOLUTION:**\n",
        "- **Write a code that generates the following table:**\n",
        "```\n",
        "1   1    1\n",
        "2   4    8\n",
        "3   9   27\n",
        "4  16   64\n",
        "5  25  125\n",
        "6  36  216\n",
        "7  49  343\n",
        "8  64  512\n",
        "9  81  729\n",
        "10 100 1000\n",
        "```\n"
      ]
    },
    {
      "cell_type": "code",
      "metadata": {
        "id": "YU82QHJ9boi2",
        "colab": {
          "base_uri": "https://localhost:8080/"
        },
        "outputId": "2adbee3d-b0be-4199-bc56-f33697fc0a2a"
      },
      "source": [
        "for x in range(1, 11):\n",
        "    print('{} {} {}'.format(x, x*x, x*x*x))"
      ],
      "execution_count": 36,
      "outputs": [
        {
          "output_type": "stream",
          "name": "stdout",
          "text": [
            "1 1 1\n",
            "2 4 8\n",
            "3 9 27\n",
            "4 16 64\n",
            "5 25 125\n",
            "6 36 216\n",
            "7 49 343\n",
            "8 64 512\n",
            "9 81 729\n",
            "10 100 1000\n"
          ]
        }
      ]
    },
    {
      "cell_type": "markdown",
      "metadata": {
        "id": "KfpFJ7tBb8RO"
      },
      "source": [
        "**MINI CHALLENGE #4 SOLUTION:**\n",
        "- **Write a code that displays numbers from 1 to 30 (including 30) using for and while loops**"
      ]
    },
    {
      "cell_type": "code",
      "metadata": {
        "id": "UukURLDIb0go",
        "colab": {
          "base_uri": "https://localhost:8080/"
        },
        "outputId": "ce04063c-de06-43cf-871e-d06e770943ef"
      },
      "source": [
        "i = 1\n",
        "while (i < 31):\n",
        "  print (i)\n",
        "  i = i+1"
      ],
      "execution_count": 37,
      "outputs": [
        {
          "output_type": "stream",
          "name": "stdout",
          "text": [
            "1\n",
            "2\n",
            "3\n",
            "4\n",
            "5\n",
            "6\n",
            "7\n",
            "8\n",
            "9\n",
            "10\n",
            "11\n",
            "12\n",
            "13\n",
            "14\n",
            "15\n",
            "16\n",
            "17\n",
            "18\n",
            "19\n",
            "20\n",
            "21\n",
            "22\n",
            "23\n",
            "24\n",
            "25\n",
            "26\n",
            "27\n",
            "28\n",
            "29\n",
            "30\n"
          ]
        }
      ]
    },
    {
      "cell_type": "code",
      "metadata": {
        "id": "iTYnoI4-cES_",
        "colab": {
          "base_uri": "https://localhost:8080/"
        },
        "outputId": "3910f3f9-2564-4413-efab-6a8f85f8b930"
      },
      "source": [
        "for i in range(1, 31):\n",
        "    print(i)"
      ],
      "execution_count": 38,
      "outputs": [
        {
          "output_type": "stream",
          "name": "stdout",
          "text": [
            "1\n",
            "2\n",
            "3\n",
            "4\n",
            "5\n",
            "6\n",
            "7\n",
            "8\n",
            "9\n",
            "10\n",
            "11\n",
            "12\n",
            "13\n",
            "14\n",
            "15\n",
            "16\n",
            "17\n",
            "18\n",
            "19\n",
            "20\n",
            "21\n",
            "22\n",
            "23\n",
            "24\n",
            "25\n",
            "26\n",
            "27\n",
            "28\n",
            "29\n",
            "30\n"
          ]
        }
      ]
    },
    {
      "cell_type": "markdown",
      "metadata": {
        "id": "YGwSp4VScYc6"
      },
      "source": [
        "**MINI CHALLENGE #5 SOLUTION:**\n",
        "- **Create a rolling dice game that assume we have two dice (#1 and #2). The dice is being thrown and a random number is generated everytime. The game should be designed such that it prompts the user to ask if he/she would like to keep playing or exit the game.**"
      ]
    },
    {
      "cell_type": "code",
      "metadata": {
        "id": "bQizGjKvcRW7",
        "colab": {
          "base_uri": "https://localhost:8080/"
        },
        "outputId": "f63ee887-34d3-40ac-ca5c-1d2438a2e494"
      },
      "source": [
        "import random\n",
        "\n",
        "keep_rolling = \"y\"\n",
        "\n",
        "while keep_rolling == \"y\":\n",
        "    print(\"Rolling the dices, please wait!...\")\n",
        "    print(\"Rolling results for Dice #1:\", random.randint(1, 6))\n",
        "    print(\"Rolling results for Dice #2:\", random.randint(1, 6))\n",
        "\n",
        "    keep_rolling = input(\"Do you want to roll again?\")"
      ],
      "execution_count": 39,
      "outputs": [
        {
          "name": "stdout",
          "output_type": "stream",
          "text": [
            "Rolling the dices, please wait!...\n",
            "Rolling results for Dice #1: 6\n",
            "Rolling results for Dice #2: 3\n",
            "Do you want to roll again?y\n",
            "Rolling the dices, please wait!...\n",
            "Rolling results for Dice #1: 2\n",
            "Rolling results for Dice #2: 1\n",
            "Do you want to roll again?n\n"
          ]
        }
      ]
    },
    {
      "cell_type": "markdown",
      "metadata": {
        "id": "fhPFAXMFdAgv"
      },
      "source": [
        "**MINI CHALLENGE #6 SOLUTION:**\n",
        "- **Write a code that continiously gets data from the user and calculates the average and print out on the screen. The code exits when the user enters 'e'.**"
      ]
    },
    {
      "cell_type": "code",
      "metadata": {
        "id": "TwdLz4BOcesU",
        "colab": {
          "base_uri": "https://localhost:8080/"
        },
        "outputId": "ce5da8b1-ea9b-407d-d2a5-32f41f26c0d9"
      },
      "source": [
        "print(\"Keep entering numbers and I will display the average to you!\")\n",
        "avg = 0\n",
        "n = 0\n",
        "while True:\n",
        "    x = input(\"Enter a number: \")\n",
        "    \n",
        "    # Check if the user wants to exit (i.e.: break the loop)\n",
        "    if x == 'e':\n",
        "      break\n",
        "    \n",
        "    x = int(x)\n",
        "    n = n + 1\n",
        "    \n",
        "    avg =   ((avg * (n - 1) ) + x) / n\n",
        "    print (\"The current average is \", avg)"
      ],
      "execution_count": 40,
      "outputs": [
        {
          "name": "stdout",
          "output_type": "stream",
          "text": [
            "Keep entering numbers and I will display the average to you!\n",
            "Enter a number: 10\n",
            "The current average is  10.0\n",
            "Enter a number: 22\n",
            "The current average is  16.0\n",
            "Enter a number: 30\n",
            "The current average is  20.666666666666668\n",
            "Enter a number: 30\n",
            "The current average is  23.0\n",
            "Enter a number: e\n"
          ]
        }
      ]
    },
    {
      "cell_type": "markdown",
      "metadata": {
        "id": "Ga5YJU8fhV1V"
      },
      "source": [
        "**MINI CHALLENGE #7 SOLUTION:**\n",
        "- **Write a code that takes in a number (range between 1 and 9) from the user and print out the multiplication table up until that number.**"
      ]
    },
    {
      "cell_type": "code",
      "metadata": {
        "id": "XPRNPUmHddYx",
        "colab": {
          "base_uri": "https://localhost:8080/"
        },
        "outputId": "03df35f4-6c6b-4394-8028-c1f7eeef92e8"
      },
      "source": [
        "number = int(input(\"Enter a number between 1 and 9: \"))\n",
        "\n",
        "for x in range(1, number+1): # slow loop \n",
        "  for y in range(1, 11):   # fast loop\n",
        "   print('{} x {} = {}'.format(x, y, x*y))"
      ],
      "execution_count": 41,
      "outputs": [
        {
          "output_type": "stream",
          "name": "stdout",
          "text": [
            "Enter a number between 1 and 9: 2\n",
            "1 x 1 = 1\n",
            "1 x 2 = 2\n",
            "1 x 3 = 3\n",
            "1 x 4 = 4\n",
            "1 x 5 = 5\n",
            "1 x 6 = 6\n",
            "1 x 7 = 7\n",
            "1 x 8 = 8\n",
            "1 x 9 = 9\n",
            "1 x 10 = 10\n",
            "2 x 1 = 2\n",
            "2 x 2 = 4\n",
            "2 x 3 = 6\n",
            "2 x 4 = 8\n",
            "2 x 5 = 10\n",
            "2 x 6 = 12\n",
            "2 x 7 = 14\n",
            "2 x 8 = 16\n",
            "2 x 9 = 18\n",
            "2 x 10 = 20\n"
          ]
        }
      ]
    },
    {
      "cell_type": "markdown",
      "metadata": {
        "id": "6eUUTJKEhgzw"
      },
      "source": [
        "**MINI CHALLENGE #8 SOLUTION:**\n",
        "- **Write a code that takes in a list of prices of a stock for the past 7 days and then normalize the prices** "
      ]
    },
    {
      "cell_type": "code",
      "metadata": {
        "id": "G-i-cSuRhiZF",
        "colab": {
          "base_uri": "https://localhost:8080/"
        },
        "outputId": "78cb17b0-3130-408a-9acb-ece54aecd0c0"
      },
      "source": [
        "print('Enter a list of past 7-days prices separated by a space:')\n",
        "prices = [int(x) for x in input().split()]"
      ],
      "execution_count": 42,
      "outputs": [
        {
          "name": "stdout",
          "output_type": "stream",
          "text": [
            "Enter a list of past 7-days prices separated by a space:\n",
            "150 160 180 140 150 170 160\n"
          ]
        }
      ]
    },
    {
      "cell_type": "code",
      "metadata": {
        "id": "05OwM9e2hsg7",
        "colab": {
          "base_uri": "https://localhost:8080/"
        },
        "outputId": "74e3d6c4-7402-414a-d333-dcfb15d74621"
      },
      "source": [
        "normalized_prices = [ (i/prices[0]) for i in prices]\n",
        "print('Orginal Prices: {}\\nNormalized Prices: {}\\n'.format(prices, normalized_prices))"
      ],
      "execution_count": 43,
      "outputs": [
        {
          "output_type": "stream",
          "name": "stdout",
          "text": [
            "Orginal Prices: [150, 160, 180, 140, 150, 170, 160]\n",
            "Normalized Prices: [1.0, 1.0666666666666667, 1.2, 0.9333333333333333, 1.0, 1.1333333333333333, 1.0666666666666667]\n",
            "\n"
          ]
        }
      ]
    }
  ]
}